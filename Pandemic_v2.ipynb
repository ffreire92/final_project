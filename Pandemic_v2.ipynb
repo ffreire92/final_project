{
 "cells": [
  {
   "cell_type": "markdown",
   "metadata": {},
   "source": [
    "# Pandemic overview in Spain"
   ]
  },
  {
   "cell_type": "markdown",
   "metadata": {},
   "source": [
    "This article's goal is to explore the data regarding the covid-19 pandemic in Spain. For that purpose, we'll use matplot library to visualise the pandemic evolution over time regarding:\n",
    "\n",
    "+ Number of infections\n",
    "+ Number of hospitalisations\n",
    "+ Number of Intensive Care Units\n",
    "+ Number of deaths\n",
    "\n",
    "We'll also explore the above mentioned data grouped by autonomous region, province, age group and gender"
   ]
  },
  {
   "cell_type": "markdown",
   "metadata": {},
   "source": [
    "For this purpose, we shall import all the functions and necessary imports:"
   ]
  },
  {
   "cell_type": "code",
   "execution_count": 1,
   "metadata": {},
   "outputs": [
    {
     "name": "stdout",
     "output_type": "stream",
     "text": [
      "The history saving thread hit an unexpected error (DatabaseError('database disk image is malformed')).History will not be written to the database.\n"
     ]
    }
   ],
   "source": [
    "from imports_functions import *\n",
    "%matplotlib inline"
   ]
  },
  {
   "cell_type": "markdown",
   "metadata": {},
   "source": [
    "We'll use as data set the covid information available on:\n",
    "https://datamarket.es/#covid-19-dataset"
   ]
  },
  {
   "cell_type": "markdown",
   "metadata": {},
   "source": [
    "We'll call db1 the whole dataset imported from the above mentioned website:"
   ]
  },
  {
   "cell_type": "code",
   "execution_count": 2,
   "metadata": {},
   "outputs": [],
   "source": [
    "db1 = pd.read_csv('covid-19-sample_new.csv')"
   ]
  },
  {
   "cell_type": "code",
   "execution_count": 4,
   "metadata": {},
   "outputs": [
    {
     "name": "stdout",
     "output_type": "stream",
     "text": [
      "<class 'pandas.core.frame.DataFrame'>\n",
      "RangeIndex: 828360 entries, 0 to 828359\n",
      "Data columns (total 9 columns):\n",
      " #   Column             Non-Null Count   Dtype \n",
      "---  ------             --------------   ----- \n",
      " 0   date               828360 non-null  object\n",
      " 1   autonomous_region  828360 non-null  object\n",
      " 2   province           828360 non-null  object\n",
      " 3   sex                828360 non-null  object\n",
      " 4   age_interval       828360 non-null  object\n",
      " 5   num_infections     828360 non-null  int64 \n",
      " 6   num_hosp           828360 non-null  int64 \n",
      " 7   num_uci            828360 non-null  int64 \n",
      " 8   num_dead           828360 non-null  int64 \n",
      "dtypes: int64(4), object(5)\n",
      "memory usage: 56.9+ MB\n"
     ]
    }
   ],
   "source": [
    "db1.info()"
   ]
  },
  {
   "cell_type": "markdown",
   "metadata": {},
   "source": [
    "Let's perform some data cleaning thanks to clean function;"
   ]
  },
  {
   "cell_type": "code",
   "execution_count": null,
   "metadata": {},
   "outputs": [],
   "source": [
    "db1 =clean_data(db1)"
   ]
  },
  {
   "cell_type": "markdown",
   "metadata": {},
   "source": [
    "## Region"
   ]
  },
  {
   "cell_type": "markdown",
   "metadata": {},
   "source": [
    "Let's visualise the above mentioned statistics grouped by **autonomous region**. For than, we'll use the organise function that receives as inputs a dataframe (in this case db1) and groups it by a specific column (in this case, autonomous_region). Additionally, it adds 4 columns to the final DataFrame with the relative frequency of each statistics (rounded to 3 decimal places):"
   ]
  },
  {
   "cell_type": "code",
   "execution_count": null,
   "metadata": {},
   "outputs": [],
   "source": [
    "region = organise(db1, 'autonomous_region')"
   ]
  },
  {
   "cell_type": "markdown",
   "metadata": {},
   "source": [
    "Let's plot this dataframe for the proportion of the **number of infections** using the graph_bar function:"
   ]
  },
  {
   "cell_type": "code",
   "execution_count": null,
   "metadata": {},
   "outputs": [],
   "source": [
    "graph_bar('vertical', sort_data(region, 'Number of infection (%)'), \n",
    "          'Number of infection (%)', 'Number of infection (%)', 'Darkgreen')"
   ]
  },
  {
   "cell_type": "markdown",
   "metadata": {},
   "source": [
    "We can observe that over 50% of the number of infections are in only 3 regions:\n",
    "\n",
    "+ 19.5% in **Comunidad de Madrid**\n",
    "+ 16.9% in **Catalunya**\n",
    "+ 16.1% in **Andalucía**"
   ]
  },
  {
   "cell_type": "markdown",
   "metadata": {},
   "source": [
    "Let's plot this dataframe for the proportion of the **number of hospitalisation** using the graph_bar function:"
   ]
  },
  {
   "cell_type": "code",
   "execution_count": null,
   "metadata": {},
   "outputs": [],
   "source": [
    "graph_bar('vertical', sort_data(region, 'Number of hospitalisation (%)'), \n",
    "          'Number of hospitalisation (%)', 'Number of hospitalisation (%)', 'Darkblue')"
   ]
  },
  {
   "cell_type": "markdown",
   "metadata": {},
   "source": [
    "Here we observe a shift between **Andalucía** and **Catalunya**:\n",
    "\n",
    "+ 28.7% in **Comunidad de Madrid**\n",
    "+ 13,2% in **Andalucía**\n",
    "+ 11,6% in **Catalunya**\n",
    "\n",
    "**Comunidad de Madrid** is by far the region with higher number of hospitalisations (2 times higher than Andalucía). We also observe that **Comunidad Valenciana** reaches almost 10% of the total of hospitalisations"
   ]
  },
  {
   "cell_type": "markdown",
   "metadata": {},
   "source": [
    "Let's plot this dataframe for the proportion of the **number of Intensive Care Unit** using the graph_bar function:"
   ]
  },
  {
   "cell_type": "code",
   "execution_count": null,
   "metadata": {},
   "outputs": [],
   "source": [
    "graph_bar('vertical', sort_data(region, 'Number of Intensive Care Unit (%)'), \n",
    "          'Number of Intensive Care Unit (%)', 'Number of Intensive Care Unit (%)', 'Orange')"
   ]
  },
  {
   "cell_type": "markdown",
   "metadata": {},
   "source": [
    "**Comunidad de Madrid** still is the most affected region with over 25% of the total Intensive Care Units events. **Andalucía** and **Catalunya** contribute significantly less with 15.7% and 10.5%. **Comunidad Valenciana** contributes with the almost the same as Catalunya with 10.3%"
   ]
  },
  {
   "cell_type": "markdown",
   "metadata": {},
   "source": [
    "Let's plot this dataframe for the proportion of the **number of deaths** using the graph_bar function:"
   ]
  },
  {
   "cell_type": "code",
   "execution_count": null,
   "metadata": {},
   "outputs": [],
   "source": [
    "graph_bar('vertical', sort_data(region, 'Number of deaths (%)'), \n",
    "          'Number of deaths (%)', 'Number of deaths (%)', 'Darkred')"
   ]
  },
  {
   "cell_type": "markdown",
   "metadata": {},
   "source": [
    "**Comunidad de Madrid** and **Catalunya** represent almost 40% of the deceased in Spain. With Andalucía, we reach over 50% of the total deaths in Spain due to covid-19"
   ]
  },
  {
   "cell_type": "markdown",
   "metadata": {},
   "source": [
    "## Province"
   ]
  },
  {
   "cell_type": "markdown",
   "metadata": {},
   "source": [
    "Let's visualise the above mentioned statistics grouped by **province**. "
   ]
  },
  {
   "cell_type": "code",
   "execution_count": null,
   "metadata": {},
   "outputs": [],
   "source": [
    "province = organise(db1, 'province')"
   ]
  },
  {
   "cell_type": "code",
   "execution_count": null,
   "metadata": {},
   "outputs": [],
   "source": [
    "graph_bar('vertical', sort_data(province, 'Number of infection (%)'), \n",
    "          'Number of infection (%)', 'Number of infection (%)', 'Darkgreen')"
   ]
  },
  {
   "cell_type": "markdown",
   "metadata": {},
   "source": [
    "It's expectable that the provinces with higher number of infections (**Madrid** and **Barcelona**) are the ones beloging to the above mentioned autonomous regions. Still, **Valencia** and **Alicante** appear with 5.6% and 4.0% respectively, cities beloging to the **Comunidad Valenciana** which is the fourth with more infectious, after **Andalucía**"
   ]
  },
  {
   "cell_type": "markdown",
   "metadata": {},
   "source": [
    "Let's plot this dataframe for the proportion of the **number of hospitalisation** using the graph_bar function:"
   ]
  },
  {
   "cell_type": "code",
   "execution_count": null,
   "metadata": {},
   "outputs": [],
   "source": [
    "graph_bar('vertical', sort_data(province, 'Number of hospitalisation (%)'), \n",
    "          'Number of hospitalisation (%)', 'Number of hospitalisation (%)', 'Darkblue')"
   ]
  },
  {
   "cell_type": "markdown",
   "metadata": {},
   "source": [
    "**Madrid** is by far the province with the higher number of hospitalisations, counting 28.7% of the total hospitalisations, followed by **Barcelona** with 12.5% and **Valencia** with 5.3%"
   ]
  },
  {
   "cell_type": "markdown",
   "metadata": {},
   "source": [
    "Let's plot this dataframe for the proportion of the **number of Intensive Care Units** using the graph_bar function:"
   ]
  },
  {
   "cell_type": "code",
   "execution_count": null,
   "metadata": {},
   "outputs": [],
   "source": [
    "graph_bar('vertical', sort_data(province, 'Number of Intensive Care Unit (%)'), \n",
    "          'Number of Intensive Care Unit (%)', 'Number of Intensive Care Unit (%)', 'Orange')"
   ]
  },
  {
   "cell_type": "markdown",
   "metadata": {},
   "source": [
    "**Madrid** is by far the province with the higher number of Intensive Care Units, counting 23.2% of the total, followed by Barcelona with 9.0% and Valencia with 5.0%"
   ]
  },
  {
   "cell_type": "markdown",
   "metadata": {},
   "source": [
    "Let's plot this dataframe for the proportion of the **number of deaths** using the graph_bar function:"
   ]
  },
  {
   "cell_type": "code",
   "execution_count": null,
   "metadata": {},
   "outputs": [],
   "source": [
    "graph_bar('vertical', sort_data(province, 'Number of deaths (%)'), \n",
    "          'Number of deaths (%)', 'Number of deaths (%)', 'Darkred')"
   ]
  },
  {
   "cell_type": "markdown",
   "metadata": {},
   "source": [
    "**Madrid** is still by far the province with the higher number of deaths, counting 20.4% of the total, followed by **Barcelona** with 15.0% and **Valencia** with 4.9%"
   ]
  },
  {
   "cell_type": "markdown",
   "metadata": {},
   "source": [
    "## Statistics over time"
   ]
  },
  {
   "cell_type": "markdown",
   "metadata": {},
   "source": [
    "By plotting any statistics over time, we find many high oscillations. Let's inspect by plotting the moving average of the number of infections with 1, 3, 5, 7, 9, 11 and 13 days. To do such, we should group our data by date (therefore, using the evolution function) and plot the moving average for the mentioned days (therefore, inspect_mov_ave function):"
   ]
  },
  {
   "cell_type": "code",
   "execution_count": null,
   "metadata": {},
   "outputs": [],
   "source": [
    "bydate = evolution(db1)"
   ]
  },
  {
   "cell_type": "code",
   "execution_count": null,
   "metadata": {},
   "outputs": [],
   "source": [
    "inspect_mov_ave(bydate)"
   ]
  },
  {
   "cell_type": "markdown",
   "metadata": {},
   "source": [
    "To evidence this reduction on the variance of the data, let's plot the daily **number of infections** and its corresponding 7 day moving average by using the function compare_7mov_ave:"
   ]
  },
  {
   "cell_type": "code",
   "execution_count": null,
   "metadata": {},
   "outputs": [],
   "source": [
    "compare_7mov_ave(bydate)"
   ]
  },
  {
   "cell_type": "markdown",
   "metadata": {},
   "source": [
    "It's clear that this implies a significant reduction on the data variance. This will be usefull to train machine learning models to predict the statistics, as this will imply an error reduction, namely on the root square mean error, measures. For now, let us plot over the daily results, its corresponding 7 day moving average, and cumulative results. To achieve such, let's use the overview function, built for this purpose:"
   ]
  },
  {
   "cell_type": "markdown",
   "metadata": {},
   "source": [
    "### Number of infections"
   ]
  },
  {
   "cell_type": "code",
   "execution_count": null,
   "metadata": {},
   "outputs": [],
   "source": [
    "overview(bydate, 'Number of infections')"
   ]
  },
  {
   "cell_type": "markdown",
   "metadata": {},
   "source": [
    "We can clearly observe the peaks of the pandemy. One might guess that the during the first wave (march 2020) there wasn't many testing, and therefore, the results would be lower than they actually would be. By observing the cumulated curve, one might state that we are observing a desacelaration rate, as the slope of the tangent line (derivative) seems to be decreasing"
   ]
  },
  {
   "cell_type": "markdown",
   "metadata": {},
   "source": [
    "### Number of hospitalisations"
   ]
  },
  {
   "cell_type": "code",
   "execution_count": null,
   "metadata": {},
   "outputs": [],
   "source": [
    "overview(bydate, 'Number of hospitalisations')"
   ]
  },
  {
   "cell_type": "markdown",
   "metadata": {},
   "source": [
    "Here there are two clear peaks, in its beggining and in January 2021. As for the cumulated curve, there seems to be a constant rate in the number of hospitalisations per day. Although, it seems to have a decrease since March 2021."
   ]
  },
  {
   "cell_type": "markdown",
   "metadata": {},
   "source": [
    "### Number of Intesive Care Units"
   ]
  },
  {
   "cell_type": "code",
   "execution_count": null,
   "metadata": {},
   "outputs": [],
   "source": [
    "overview(bydate, 'Number of Intensive Care Units')"
   ]
  },
  {
   "cell_type": "markdown",
   "metadata": {},
   "source": [
    "We can clearly observe the peaks of the pandemy. As for the number of hospitalisations, one might guess that the during the first wave (march 2020) there wasn't many testing, and therefore, the results would be lower than they actually would be. By observing the cumulated curve, one might state that we are observing a desacelaration rate, as the slope of the tangent line (derivative) seems to be decreasing."
   ]
  },
  {
   "cell_type": "markdown",
   "metadata": {},
   "source": [
    "### Number of deaths"
   ]
  },
  {
   "cell_type": "code",
   "execution_count": null,
   "metadata": {},
   "outputs": [],
   "source": [
    "overview(bydate, 'Number of deaths')"
   ]
  },
  {
   "cell_type": "markdown",
   "metadata": {},
   "source": [
    "The number of deaths is similiar to the above mentioned"
   ]
  },
  {
   "cell_type": "markdown",
   "metadata": {},
   "source": [
    "## Last 7 days"
   ]
  },
  {
   "cell_type": "markdown",
   "metadata": {},
   "source": [
    "For the security purposes, it is important to monitor the last seven days statistics. Therefore, let's apply the functions above to a subset of the bydate dataframe with the last seven days:"
   ]
  },
  {
   "cell_type": "code",
   "execution_count": null,
   "metadata": {},
   "outputs": [],
   "source": [
    "last7 = bydate.tail(7)"
   ]
  },
  {
   "cell_type": "markdown",
   "metadata": {},
   "source": [
    "### Number of infections"
   ]
  },
  {
   "cell_type": "code",
   "execution_count": null,
   "metadata": {},
   "outputs": [],
   "source": [
    "overview(last7, 'Number of infections')"
   ]
  },
  {
   "cell_type": "markdown",
   "metadata": {},
   "source": [
    "The last increase for the 13th to the 14th of june may be explained by the fact that on the 13th of june it was Sunday. Hence, not laboratories or healthcare institutions didn't advise the number of detected cases  "
   ]
  },
  {
   "cell_type": "markdown",
   "metadata": {},
   "source": [
    "### Number of hospitalisations"
   ]
  },
  {
   "cell_type": "code",
   "execution_count": null,
   "metadata": {},
   "outputs": [],
   "source": [
    "overview(last7, 'Number of hospitalisations')"
   ]
  },
  {
   "cell_type": "markdown",
   "metadata": {},
   "source": [
    "Even though we see an increase, it seems that on average we are on a decreasing rate"
   ]
  },
  {
   "cell_type": "markdown",
   "metadata": {},
   "source": [
    "### Number of Intensive Care Units"
   ]
  },
  {
   "cell_type": "code",
   "execution_count": null,
   "metadata": {},
   "outputs": [],
   "source": [
    "overview(last7, 'Number of Intensive Care Units')"
   ]
  },
  {
   "cell_type": "markdown",
   "metadata": {},
   "source": [
    "Even though we see an increase, it seems that on average we are on a decreasing rate"
   ]
  },
  {
   "cell_type": "markdown",
   "metadata": {},
   "source": [
    "### Number of deaths"
   ]
  },
  {
   "cell_type": "code",
   "execution_count": null,
   "metadata": {},
   "outputs": [],
   "source": [
    "overview(last7, 'Number of deaths')"
   ]
  },
  {
   "cell_type": "markdown",
   "metadata": {},
   "source": [
    "Even though we see an increase, it seems that on average we are on a decreasing rate"
   ]
  },
  {
   "cell_type": "markdown",
   "metadata": {},
   "source": [
    "## Ages"
   ]
  },
  {
   "cell_type": "markdown",
   "metadata": {},
   "source": [
    "Let's explore the above statistics over group ages:"
   ]
  },
  {
   "cell_type": "code",
   "execution_count": null,
   "metadata": {},
   "outputs": [],
   "source": [
    "ages = organise(db1, 'age_interval')"
   ]
  },
  {
   "cell_type": "markdown",
   "metadata": {},
   "source": [
    "### Number of infections"
   ]
  },
  {
   "cell_type": "code",
   "execution_count": null,
   "metadata": {},
   "outputs": [],
   "source": [
    "graph_bar('horizontal', ages, 'Number of infection (%)',\n",
    "          'Number of infection (%)', 'Darkgreen')"
   ]
  },
  {
   "cell_type": "markdown",
   "metadata": {},
   "source": [
    "There seems to be a dominant age intervals when it comes to the infections, between 30 and 59 years"
   ]
  },
  {
   "cell_type": "markdown",
   "metadata": {},
   "source": [
    "### Number of hospitalisations"
   ]
  },
  {
   "cell_type": "code",
   "execution_count": null,
   "metadata": {},
   "outputs": [],
   "source": [
    "graph_bar('horizontal', ages, 'Number of hospitalisation (%)',\n",
    "          'Number of hospitalisation (%)', 'DarkBlue')"
   ]
  },
  {
   "cell_type": "markdown",
   "metadata": {},
   "source": [
    "Here we seem a different distribution: starting at age 50, over 15% of the infected population seeks medical attention in an hospital"
   ]
  },
  {
   "cell_type": "markdown",
   "metadata": {},
   "source": [
    "### Number of Intensive Care Units"
   ]
  },
  {
   "cell_type": "code",
   "execution_count": null,
   "metadata": {},
   "outputs": [],
   "source": [
    "graph_bar('horizontal', ages, 'Number of Intensive Care Unit (%)',\n",
    "          'Number of Intensive Care Unit (%)', 'Orange')"
   ]
  },
  {
   "cell_type": "markdown",
   "metadata": {},
   "source": [
    "It seems people for 50 years and above need Intensive Care medical attention to fight the infection. Although, there seems to be a very low rate of people over 80 years old that needs this attention. This might be explained by the saturation of hospitals, in where people over a certain age would be sent home, as they wasn't any resources to treat these people"
   ]
  },
  {
   "cell_type": "markdown",
   "metadata": {},
   "source": [
    "### Number of deaths"
   ]
  },
  {
   "cell_type": "code",
   "execution_count": null,
   "metadata": {},
   "outputs": [],
   "source": [
    "graph_bar('horizontal', ages, 'Number of deaths (%)',\n",
    "          'Number of deaths (%)', 'Darkred')"
   ]
  },
  {
   "cell_type": "markdown",
   "metadata": {},
   "source": [
    "Clearly, the above graph sustains the above statement: people ov er a certain age, namely 80, wouldn't be put in Intensive Care Units, and would be sent home. Unfortunately, these people weren't able to resist to the desease"
   ]
  },
  {
   "cell_type": "markdown",
   "metadata": {},
   "source": [
    "### Severe Cases"
   ]
  },
  {
   "cell_type": "markdown",
   "metadata": {},
   "source": [
    "To highlight the above point, let's plot only the cases in where people were either hospitalsed, put into Intensive Care Units or found death over group age:"
   ]
  },
  {
   "cell_type": "code",
   "execution_count": null,
   "metadata": {},
   "outputs": [],
   "source": [
    "severe_cases(ages)"
   ]
  },
  {
   "cell_type": "markdown",
   "metadata": {},
   "source": [
    "It's clear the phenomenon: elder people would get the necessary medical attention to fight the desease, and would be sent home. Its effect is the high mortality rate, and low intesive care unit rate for for this group age"
   ]
  },
  {
   "cell_type": "markdown",
   "metadata": {},
   "source": [
    "## Gender"
   ]
  },
  {
   "cell_type": "markdown",
   "metadata": {},
   "source": [
    "Lastly, let's apply the same function for the gender group (male or female):"
   ]
  },
  {
   "cell_type": "code",
   "execution_count": null,
   "metadata": {},
   "outputs": [],
   "source": [
    "gender = organise(db1, 'sex')"
   ]
  },
  {
   "cell_type": "markdown",
   "metadata": {},
   "source": [
    "### Number of infections"
   ]
  },
  {
   "cell_type": "code",
   "execution_count": null,
   "metadata": {},
   "outputs": [],
   "source": [
    "graph_bar('horizontal', gender, 'Number of infection (%)',\n",
    "          'Number of infection (%)', 'Darkgreen')"
   ]
  },
  {
   "cell_type": "markdown",
   "metadata": {},
   "source": [
    "### Number of hospitalisations"
   ]
  },
  {
   "cell_type": "code",
   "execution_count": null,
   "metadata": {},
   "outputs": [],
   "source": [
    "graph_bar('horizontal', gender, 'Number of hospitalisation (%)',\n",
    "          'Number of hospitalisation (%)', 'Darkblue')"
   ]
  },
  {
   "cell_type": "markdown",
   "metadata": {},
   "source": [
    "### Number of hospitalisations"
   ]
  },
  {
   "cell_type": "code",
   "execution_count": null,
   "metadata": {},
   "outputs": [],
   "source": [
    "graph_bar('horizontal', gender, 'Number of Intensive Care Unit (%)',\n",
    "          'Number of Intensive Care Unit (%)', 'Orange')"
   ]
  },
  {
   "cell_type": "markdown",
   "metadata": {},
   "source": [
    "There seems to be a significant difference when it comes to the Intensive Care Units for male and female gender. Female gender seems to be less vulnerable to need intensive medical care"
   ]
  },
  {
   "cell_type": "markdown",
   "metadata": {},
   "source": [
    "### Number of deaths"
   ]
  },
  {
   "cell_type": "code",
   "execution_count": null,
   "metadata": {},
   "outputs": [],
   "source": [
    "graph_bar('horizontal', gender, 'Number of deaths (%)',\n",
    "          'Number of deaths (%)', 'Darkred')"
   ]
  },
  {
   "cell_type": "code",
   "execution_count": null,
   "metadata": {},
   "outputs": [],
   "source": [
    "region_province_age = organise(db1, ['autonomous_region', 'province', 'age_interval'])"
   ]
  },
  {
   "cell_type": "markdown",
   "metadata": {},
   "source": [
    "# Exports"
   ]
  },
  {
   "cell_type": "markdown",
   "metadata": {},
   "source": [
    "Lastly, let's extract the above information to csv, so we can use a visualisation:"
   ]
  },
  {
   "cell_type": "code",
   "execution_count": null,
   "metadata": {},
   "outputs": [],
   "source": [
    "region_province_age.to_csv('region_province_age.csv', index=True)"
   ]
  },
  {
   "cell_type": "code",
   "execution_count": null,
   "metadata": {},
   "outputs": [],
   "source": [
    "bydate.to_csv('bydate.csv', index=True)"
   ]
  },
  {
   "cell_type": "code",
   "execution_count": null,
   "metadata": {},
   "outputs": [],
   "source": [
    "predictions = pd.read_csv('predictions.csv')"
   ]
  },
  {
   "cell_type": "code",
   "execution_count": null,
   "metadata": {},
   "outputs": [],
   "source": [
    "predictions = predictions.rename(columns= {'Unnamed: 0': 'date'})"
   ]
  },
  {
   "cell_type": "code",
   "execution_count": null,
   "metadata": {},
   "outputs": [],
   "source": [
    "last7 = pd.concat([last7, predictions])"
   ]
  },
  {
   "cell_type": "code",
   "execution_count": null,
   "metadata": {},
   "outputs": [],
   "source": [
    "last7['date'] = pd.to_datetime(last7.date)"
   ]
  },
  {
   "cell_type": "code",
   "execution_count": null,
   "metadata": {},
   "outputs": [],
   "source": [
    "last7.to_csv('last7.csv', index=True)"
   ]
  }
 ],
 "metadata": {
  "kernelspec": {
   "display_name": "Python 3",
   "language": "python",
   "name": "python3"
  },
  "language_info": {
   "codemirror_mode": {
    "name": "ipython",
    "version": 3
   },
   "file_extension": ".py",
   "mimetype": "text/x-python",
   "name": "python",
   "nbconvert_exporter": "python",
   "pygments_lexer": "ipython3",
   "version": "3.8.5"
  }
 },
 "nbformat": 4,
 "nbformat_minor": 4
}
