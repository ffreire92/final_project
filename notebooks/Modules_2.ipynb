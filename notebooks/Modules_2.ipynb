{
  "nbformat": 4,
  "nbformat_minor": 0,
  "metadata": {
    "colab": {
      "name": "Modules_2.ipynb",
      "provenance": [],
      "collapsed_sections": []
    },
    "kernelspec": {
      "display_name": "Python 3",
      "name": "python3"
    },
    "language_info": {
      "name": "python"
    }
  },
  "cells": [
    {
      "cell_type": "markdown",
      "metadata": {
        "id": "NHt1ZJJMkXb1"
      },
      "source": [
        "# Imports"
      ]
    },
    {
      "cell_type": "code",
      "metadata": {
        "id": "AEO1pJahIBx2"
      },
      "source": [
        "import pandas as pd\n",
        "import numpy as np"
      ],
      "execution_count": 2,
      "outputs": []
    },
    {
      "cell_type": "code",
      "metadata": {
        "id": "XWYpXPV7kP-n"
      },
      "source": [
        "import seaborn as sns\n",
        "import matplotlib.pyplot as plt\n",
        "%matplotlib inline\n",
        "import pylab as plt"
      ],
      "execution_count": 3,
      "outputs": []
    },
    {
      "cell_type": "markdown",
      "metadata": {
        "id": "OQzo4rO1kbuf"
      },
      "source": [
        "# Functions"
      ]
    },
    {
      "cell_type": "code",
      "metadata": {
        "id": "__18FcwWlNfP"
      },
      "source": [
        "def clean_data():\n",
        "    \n",
        "    global db1\n",
        "    db1 = db1[(db1.num_infections > 0)].reset_index()\n",
        "    db1 = db1.drop(columns = ['index'], axis = 1)\n",
        "    \n",
        "    db1['date'] = pd.to_datetime(db1.date)\n",
        "    \n",
        "   \n",
        "    db1['autonomous_region'] = db1.autonomous_region.apply(lambda x: 'Comunidad Valenciana' if x == 'Valenciana, Comunidad' else x)\n",
        "    db1['autonomous_region'] = db1.autonomous_region.apply(lambda x: 'Comunidad de Madrid' if x == 'Madrid, Comunidad de' else x)\n",
        "    db1['autonomous_region'] = db1.autonomous_region.apply(lambda x: 'Región de de Murcia' if x == 'Murcia, Región de' else x)\n",
        "    db1['autonomous_region'] = db1.autonomous_region.apply(lambda x: 'Comunidad Foral de Navarra' if x == 'Navarra, Comunidad Foral de' else x)\n",
        "    db1['autonomous_region'] = db1.autonomous_region.apply(lambda x: 'Principado de Asturias' if x == 'Asturias, Principado de' else x)\n",
        "    \n",
        "    \n",
        "    db1['province'] = db1.province.apply(lambda x: 'Alicante' if x == 'Alicante/Alacant' else x)\n",
        "    db1['province'] = db1.province.apply(lambda x: 'Castellón' if x == 'Castellón/Castelló' else x)\n",
        "    db1['province'] = db1.province.apply(lambda x: 'Araba' if x == 'Araba/Álava' else x)\n",
        "    \n",
        "    db1['sex'] = db1.sex.apply(lambda x: 'UKNOWN' if x == 'NC' else x)\n",
        "    \n",
        "    db1['age_interval'] = db1.age_interval.apply(lambda x: 'UKNOWN' if x == 'NC' else x)"
      ],
      "execution_count": 4,
      "outputs": []
    },
    {
      "cell_type": "code",
      "metadata": {
        "id": "PBwkODQmkQAq"
      },
      "source": [
        "def cumulative(dataframe):\n",
        "    \n",
        "    cumu_num_infections = dataframe.num_infections.cumsum()\n",
        "    cumu_num_hosp = dataframe.num_hosp.cumsum()\n",
        "    cumu_num_uci = dataframe.num_uci.cumsum()\n",
        "    cumu_num_dead = dataframe.num_dead.cumsum()\n",
        "\n",
        "    cumulative = pd.DataFrame({'cumu_num_infections': cumu_num_infections, 'cumu_num_hosp': cumu_num_hosp, \n",
        "                               'cumu_num_uci': cumu_num_uci, 'cumu_num_dead': cumu_num_dead})\n",
        "    dataframe = pd.concat([dataframe, cumulative], axis = 1)\n",
        "    return dataframe"
      ],
      "execution_count": 5,
      "outputs": []
    },
    {
      "cell_type": "code",
      "metadata": {
        "id": "1Tw2jRhukQC7"
      },
      "source": [
        "def freq_rel(dataframe):\n",
        "    \n",
        "    dataframe['Number of infection (%)'] = [round(i/ dataframe['num_infections'].sum(),3)*100 for i in dataframe['num_infections']]\n",
        "    dataframe['Number of hospitalisation (%)'] = [round(i/ dataframe['num_hosp'].sum(),3)*100 for i in dataframe['num_hosp']]\n",
        "    dataframe['Number of Intensive Care Unit (%)'] = [round(i/ dataframe['num_uci'].sum(),3)*100 for i in dataframe['num_uci']]\n",
        "    dataframe['Number of deaths (%)'] = [round(i/ dataframe['num_dead'].sum(),3)*100 for i in dataframe['num_dead']]"
      ],
      "execution_count": 6,
      "outputs": []
    },
    {
      "cell_type": "code",
      "metadata": {
        "id": "MKL0zntUkQFe"
      },
      "source": [
        "def organise(column):\n",
        "    \n",
        "    name = db1.groupby(column).sum()\n",
        "    freq_rel(name)\n",
        "    \n",
        "    return name"
      ],
      "execution_count": 7,
      "outputs": []
    },
    {
      "cell_type": "code",
      "metadata": {
        "id": "tWLiLHPqkQIS"
      },
      "source": [
        "def mov_7_ave(dataframe):\n",
        "    dataframe['ave_7_num_infections'] = dataframe.iloc[:,1].rolling(window=7).mean()\n",
        "    dataframe['ave_7_num_hosp'] = dataframe.iloc[:,2].rolling(window=7).mean()\n",
        "    dataframe['ave_7_num_uci'] = dataframe.iloc[:,3].rolling(window=7).mean()\n",
        "    dataframe['ave_7_num_dead'] = dataframe.iloc[:,4].rolling(window=7).mean()\n",
        "    \n",
        "    return dataframe"
      ],
      "execution_count": 8,
      "outputs": []
    },
    {
      "cell_type": "markdown",
      "metadata": {
        "id": "z2va49Qzkvkl"
      },
      "source": [
        "# Data Base"
      ]
    },
    {
      "cell_type": "code",
      "metadata": {
        "id": "JlUfg_HAkQLK"
      },
      "source": [
        "db1 =pd.read_csv('/content/covid-19-sample.csv') "
      ],
      "execution_count": 9,
      "outputs": []
    },
    {
      "cell_type": "code",
      "metadata": {
        "colab": {
          "base_uri": "https://localhost:8080/"
        },
        "id": "lL0QrwPeO99s",
        "outputId": "f9729af0-aff0-4f30-fcb8-d7036fb07d2b"
      },
      "source": [
        "db1.shape"
      ],
      "execution_count": 10,
      "outputs": [
        {
          "output_type": "execute_result",
          "data": {
            "text/plain": [
              "(822120, 9)"
            ]
          },
          "metadata": {
            "tags": []
          },
          "execution_count": 10
        }
      ]
    },
    {
      "cell_type": "code",
      "metadata": {
        "id": "lKx4JMhEkrCw"
      },
      "source": [
        "clean_data()"
      ],
      "execution_count": 11,
      "outputs": []
    },
    {
      "cell_type": "code",
      "metadata": {
        "id": "Hv6xR-vwkrFT"
      },
      "source": [
        "bydate = db1.groupby('date').sum().reset_index()\n",
        "bydate = cumulative(bydate)\n",
        "bydate = mov_7_ave(bydate)"
      ],
      "execution_count": 12,
      "outputs": []
    },
    {
      "cell_type": "code",
      "metadata": {
        "colab": {
          "base_uri": "https://localhost:8080/"
        },
        "id": "3I7iYj43lzts",
        "outputId": "5ac7164e-af39-4807-fef2-c9f5be4b4cc4"
      },
      "source": [
        "bydate.shape"
      ],
      "execution_count": 13,
      "outputs": [
        {
          "output_type": "execute_result",
          "data": {
            "text/plain": [
              "(480, 13)"
            ]
          },
          "metadata": {
            "tags": []
          },
          "execution_count": 13
        }
      ]
    },
    {
      "cell_type": "markdown",
      "metadata": {
        "id": "cFU3Ys32llEI"
      },
      "source": [
        "# ARMA"
      ]
    },
    {
      "cell_type": "code",
      "metadata": {
        "id": "eM9OUxb4krH7",
        "colab": {
          "base_uri": "https://localhost:8080/"
        },
        "outputId": "8dd9ed59-75ef-44cb-e73e-b4484f6c1147"
      },
      "source": [
        "from statsmodels.tsa.arima_model import ARMA"
      ],
      "execution_count": 14,
      "outputs": [
        {
          "output_type": "stream",
          "text": [
            "/usr/local/lib/python3.7/dist-packages/statsmodels/tools/_testing.py:19: FutureWarning: pandas.util.testing is deprecated. Use the functions in the public API at pandas.testing instead.\n",
            "  import pandas.util.testing as tm\n"
          ],
          "name": "stderr"
        }
      ]
    },
    {
      "cell_type": "code",
      "metadata": {
        "id": "4tQp6U-c81ud"
      },
      "source": [
        "from sklearn.metrics import mean_squared_error as mse"
      ],
      "execution_count": 15,
      "outputs": []
    },
    {
      "cell_type": "code",
      "metadata": {
        "id": "HYe-mXbrGHLf"
      },
      "source": [
        ""
      ],
      "execution_count": 18,
      "outputs": []
    },
    {
      "cell_type": "markdown",
      "metadata": {
        "id": "y0VkbWe5luJV"
      },
      "source": [
        "# num_infections"
      ]
    },
    {
      "cell_type": "code",
      "metadata": {
        "id": "shjIvYCfkrKQ"
      },
      "source": [
        "infections = bydate[['date', 'ave_7_num_infections']].set_index('date')"
      ],
      "execution_count": 16,
      "outputs": []
    },
    {
      "cell_type": "code",
      "metadata": {
        "id": "6NftgaWEmJd7"
      },
      "source": [
        "infections = infections[6:]"
      ],
      "execution_count": 17,
      "outputs": []
    },
    {
      "cell_type": "code",
      "metadata": {
        "colab": {
          "base_uri": "https://localhost:8080/",
          "height": 451
        },
        "id": "l2Y-wtR6mJba",
        "outputId": "026ba42a-5fee-492b-f2c9-41b7e4420520"
      },
      "source": [
        "infections"
      ],
      "execution_count": 18,
      "outputs": [
        {
          "output_type": "execute_result",
          "data": {
            "text/html": [
              "<div>\n",
              "<style scoped>\n",
              "    .dataframe tbody tr th:only-of-type {\n",
              "        vertical-align: middle;\n",
              "    }\n",
              "\n",
              "    .dataframe tbody tr th {\n",
              "        vertical-align: top;\n",
              "    }\n",
              "\n",
              "    .dataframe thead th {\n",
              "        text-align: right;\n",
              "    }\n",
              "</style>\n",
              "<table border=\"1\" class=\"dataframe\">\n",
              "  <thead>\n",
              "    <tr style=\"text-align: right;\">\n",
              "      <th></th>\n",
              "      <th>ave_7_num_infections</th>\n",
              "    </tr>\n",
              "    <tr>\n",
              "      <th>date</th>\n",
              "      <th></th>\n",
              "    </tr>\n",
              "  </thead>\n",
              "  <tbody>\n",
              "    <tr>\n",
              "      <th>2020-02-23</th>\n",
              "      <td>1.428571</td>\n",
              "    </tr>\n",
              "    <tr>\n",
              "      <th>2020-02-24</th>\n",
              "      <td>1.571429</td>\n",
              "    </tr>\n",
              "    <tr>\n",
              "      <th>2020-02-25</th>\n",
              "      <td>1.571429</td>\n",
              "    </tr>\n",
              "    <tr>\n",
              "      <th>2020-02-26</th>\n",
              "      <td>2.428571</td>\n",
              "    </tr>\n",
              "    <tr>\n",
              "      <th>2020-02-27</th>\n",
              "      <td>5.285714</td>\n",
              "    </tr>\n",
              "    <tr>\n",
              "      <th>...</th>\n",
              "      <td>...</td>\n",
              "    </tr>\n",
              "    <tr>\n",
              "      <th>2021-06-06</th>\n",
              "      <td>4015.142857</td>\n",
              "    </tr>\n",
              "    <tr>\n",
              "      <th>2021-06-07</th>\n",
              "      <td>3911.142857</td>\n",
              "    </tr>\n",
              "    <tr>\n",
              "      <th>2021-06-08</th>\n",
              "      <td>3761.857143</td>\n",
              "    </tr>\n",
              "    <tr>\n",
              "      <th>2021-06-09</th>\n",
              "      <td>3593.714286</td>\n",
              "    </tr>\n",
              "    <tr>\n",
              "      <th>2021-06-10</th>\n",
              "      <td>3504.714286</td>\n",
              "    </tr>\n",
              "  </tbody>\n",
              "</table>\n",
              "<p>474 rows × 1 columns</p>\n",
              "</div>"
            ],
            "text/plain": [
              "            ave_7_num_infections\n",
              "date                            \n",
              "2020-02-23              1.428571\n",
              "2020-02-24              1.571429\n",
              "2020-02-25              1.571429\n",
              "2020-02-26              2.428571\n",
              "2020-02-27              5.285714\n",
              "...                          ...\n",
              "2021-06-06           4015.142857\n",
              "2021-06-07           3911.142857\n",
              "2021-06-08           3761.857143\n",
              "2021-06-09           3593.714286\n",
              "2021-06-10           3504.714286\n",
              "\n",
              "[474 rows x 1 columns]"
            ]
          },
          "metadata": {
            "tags": []
          },
          "execution_count": 18
        }
      ]
    },
    {
      "cell_type": "markdown",
      "metadata": {
        "id": "DiOQXUKPhmXT"
      },
      "source": [
        "# 1 day"
      ]
    },
    {
      "cell_type": "code",
      "metadata": {
        "id": "53RAO-40X8Gi"
      },
      "source": [
        "train, test = infections[:-1], infections[-1:]"
      ],
      "execution_count": 22,
      "outputs": []
    },
    {
      "cell_type": "code",
      "metadata": {
        "colab": {
          "base_uri": "https://localhost:8080/",
          "height": 451
        },
        "id": "_VYiAy4Ii2PY",
        "outputId": "c6feb4b0-8f97-44d4-af67-856f5c85bdce"
      },
      "source": [
        "train"
      ],
      "execution_count": 23,
      "outputs": [
        {
          "output_type": "execute_result",
          "data": {
            "text/html": [
              "<div>\n",
              "<style scoped>\n",
              "    .dataframe tbody tr th:only-of-type {\n",
              "        vertical-align: middle;\n",
              "    }\n",
              "\n",
              "    .dataframe tbody tr th {\n",
              "        vertical-align: top;\n",
              "    }\n",
              "\n",
              "    .dataframe thead th {\n",
              "        text-align: right;\n",
              "    }\n",
              "</style>\n",
              "<table border=\"1\" class=\"dataframe\">\n",
              "  <thead>\n",
              "    <tr style=\"text-align: right;\">\n",
              "      <th></th>\n",
              "      <th>ave_7_num_infections</th>\n",
              "    </tr>\n",
              "    <tr>\n",
              "      <th>date</th>\n",
              "      <th></th>\n",
              "    </tr>\n",
              "  </thead>\n",
              "  <tbody>\n",
              "    <tr>\n",
              "      <th>2020-02-23</th>\n",
              "      <td>1.428571</td>\n",
              "    </tr>\n",
              "    <tr>\n",
              "      <th>2020-02-24</th>\n",
              "      <td>1.571429</td>\n",
              "    </tr>\n",
              "    <tr>\n",
              "      <th>2020-02-25</th>\n",
              "      <td>1.571429</td>\n",
              "    </tr>\n",
              "    <tr>\n",
              "      <th>2020-02-26</th>\n",
              "      <td>2.428571</td>\n",
              "    </tr>\n",
              "    <tr>\n",
              "      <th>2020-02-27</th>\n",
              "      <td>5.285714</td>\n",
              "    </tr>\n",
              "    <tr>\n",
              "      <th>...</th>\n",
              "      <td>...</td>\n",
              "    </tr>\n",
              "    <tr>\n",
              "      <th>2021-06-05</th>\n",
              "      <td>4048.428571</td>\n",
              "    </tr>\n",
              "    <tr>\n",
              "      <th>2021-06-06</th>\n",
              "      <td>4015.142857</td>\n",
              "    </tr>\n",
              "    <tr>\n",
              "      <th>2021-06-07</th>\n",
              "      <td>3911.142857</td>\n",
              "    </tr>\n",
              "    <tr>\n",
              "      <th>2021-06-08</th>\n",
              "      <td>3761.857143</td>\n",
              "    </tr>\n",
              "    <tr>\n",
              "      <th>2021-06-09</th>\n",
              "      <td>3593.714286</td>\n",
              "    </tr>\n",
              "  </tbody>\n",
              "</table>\n",
              "<p>473 rows × 1 columns</p>\n",
              "</div>"
            ],
            "text/plain": [
              "            ave_7_num_infections\n",
              "date                            \n",
              "2020-02-23              1.428571\n",
              "2020-02-24              1.571429\n",
              "2020-02-25              1.571429\n",
              "2020-02-26              2.428571\n",
              "2020-02-27              5.285714\n",
              "...                          ...\n",
              "2021-06-05           4048.428571\n",
              "2021-06-06           4015.142857\n",
              "2021-06-07           3911.142857\n",
              "2021-06-08           3761.857143\n",
              "2021-06-09           3593.714286\n",
              "\n",
              "[473 rows x 1 columns]"
            ]
          },
          "metadata": {
            "tags": []
          },
          "execution_count": 23
        }
      ]
    },
    {
      "cell_type": "code",
      "metadata": {
        "colab": {
          "base_uri": "https://localhost:8080/",
          "height": 110
        },
        "id": "uCdOg4rOjNVb",
        "outputId": "d07e20e8-d1e0-405d-cac7-f258bc1a6c27"
      },
      "source": [
        "test"
      ],
      "execution_count": 24,
      "outputs": [
        {
          "output_type": "execute_result",
          "data": {
            "text/html": [
              "<div>\n",
              "<style scoped>\n",
              "    .dataframe tbody tr th:only-of-type {\n",
              "        vertical-align: middle;\n",
              "    }\n",
              "\n",
              "    .dataframe tbody tr th {\n",
              "        vertical-align: top;\n",
              "    }\n",
              "\n",
              "    .dataframe thead th {\n",
              "        text-align: right;\n",
              "    }\n",
              "</style>\n",
              "<table border=\"1\" class=\"dataframe\">\n",
              "  <thead>\n",
              "    <tr style=\"text-align: right;\">\n",
              "      <th></th>\n",
              "      <th>ave_7_num_infections</th>\n",
              "    </tr>\n",
              "    <tr>\n",
              "      <th>date</th>\n",
              "      <th></th>\n",
              "    </tr>\n",
              "  </thead>\n",
              "  <tbody>\n",
              "    <tr>\n",
              "      <th>2021-06-10</th>\n",
              "      <td>3504.714286</td>\n",
              "    </tr>\n",
              "  </tbody>\n",
              "</table>\n",
              "</div>"
            ],
            "text/plain": [
              "            ave_7_num_infections\n",
              "date                            \n",
              "2021-06-10           3504.714286"
            ]
          },
          "metadata": {
            "tags": []
          },
          "execution_count": 24
        }
      ]
    },
    {
      "cell_type": "code",
      "metadata": {
        "colab": {
          "base_uri": "https://localhost:8080/"
        },
        "id": "xdJn87qJisqm",
        "outputId": "e4e7ecc8-42be-4bf8-9741-27310ff9a878"
      },
      "source": [
        "model.predict(len(train), len(infections)-1)"
      ],
      "execution_count": null,
      "outputs": [
        {
          "output_type": "execute_result",
          "data": {
            "text/plain": [
              "2021-06-10    3470.281124\n",
              "Freq: D, dtype: float64"
            ]
          },
          "metadata": {
            "tags": []
          },
          "execution_count": 48
        }
      ]
    },
    {
      "cell_type": "code",
      "metadata": {
        "colab": {
          "base_uri": "https://localhost:8080/"
        },
        "id": "Gkm334AqivMm",
        "outputId": "2de9ce8c-6b00-46f1-adc1-38bf4da8d583"
      },
      "source": [
        "res"
      ],
      "execution_count": null,
      "outputs": [
        {
          "output_type": "execute_result",
          "data": {
            "text/plain": [
              "[(1, 1, 18.90747564270123),\n",
              " (1, 2, 12.645228909246725),\n",
              " (1, 3, 16.02402959087658),\n",
              " (1, 4, 17.424846259546484),\n",
              " (1, 5, 13.158815228540334),\n",
              " (1, 6, 10.534746179435388),\n",
              " (1, 7, 6.020405179261616),\n",
              " (2, 1, 3.8629991798852643),\n",
              " (2, 2, 2.5379584929751218),\n",
              " (2, 3, 1.5548487226483303),\n",
              " (2, 4, 2.504379702289043),\n",
              " (2, 5, 8.292562055577491),\n",
              " (2, 6, 34.63647317724053),\n",
              " (2, 7, 20.346714899237213),\n",
              " (3, 1, 2.962543241550975),\n",
              " (3, 2, 3.731526111430412),\n",
              " (3, 3, 9.857697807683962),\n",
              " (3, 4, 18.916415229525683),\n",
              " (3, 5, 16.35032047720324),\n",
              " (3, 6, 36.29986501237863),\n",
              " (3, 7, 25.36505903340276),\n",
              " (4, 1, 3.7822478493039853),\n",
              " (4, 2, 0.872629242644507),\n",
              " (4, 3, 10.865939081843862),\n",
              " (4, 4, 14.671905625944873),\n",
              " (4, 5, 18.741172717896916),\n",
              " (4, 6, 26.842763727696365),\n",
              " (4, 7, 19.86533352639799)]"
            ]
          },
          "metadata": {
            "tags": []
          },
          "execution_count": 53
        }
      ]
    },
    {
      "cell_type": "code",
      "metadata": {
        "colab": {
          "base_uri": "https://localhost:8080/"
        },
        "id": "-QK_FbhNkhY1",
        "outputId": "ddc0b425-0011-4bea-f6e4-4dcd02e866b4"
      },
      "source": [
        "res=[]\n",
        "for p in range(1, 5): \n",
        "  for q in range(1, 8): \n",
        "    model=ARMA(train, order = (p, q)).fit(disp=False)\n",
        "    res.append((p, q, mse(model.predict(len(train), len(infections)-1), test)**0.5))"
      ],
      "execution_count": 25,
      "outputs": [
        {
          "output_type": "stream",
          "text": [
            "/usr/local/lib/python3.7/dist-packages/statsmodels/tsa/base/tsa_model.py:165: ValueWarning: No frequency information was provided, so inferred frequency D will be used.\n",
            "  % freq, ValueWarning)\n",
            "/usr/local/lib/python3.7/dist-packages/statsmodels/tsa/base/tsa_model.py:165: ValueWarning: No frequency information was provided, so inferred frequency D will be used.\n",
            "  % freq, ValueWarning)\n",
            "/usr/local/lib/python3.7/dist-packages/statsmodels/tsa/base/tsa_model.py:165: ValueWarning: No frequency information was provided, so inferred frequency D will be used.\n",
            "  % freq, ValueWarning)\n",
            "/usr/local/lib/python3.7/dist-packages/statsmodels/tsa/base/tsa_model.py:165: ValueWarning: No frequency information was provided, so inferred frequency D will be used.\n",
            "  % freq, ValueWarning)\n",
            "/usr/local/lib/python3.7/dist-packages/statsmodels/tsa/base/tsa_model.py:165: ValueWarning: No frequency information was provided, so inferred frequency D will be used.\n",
            "  % freq, ValueWarning)\n",
            "/usr/local/lib/python3.7/dist-packages/statsmodels/tsa/base/tsa_model.py:165: ValueWarning: No frequency information was provided, so inferred frequency D will be used.\n",
            "  % freq, ValueWarning)\n",
            "/usr/local/lib/python3.7/dist-packages/statsmodels/tsa/base/tsa_model.py:165: ValueWarning: No frequency information was provided, so inferred frequency D will be used.\n",
            "  % freq, ValueWarning)\n",
            "/usr/local/lib/python3.7/dist-packages/statsmodels/tsa/base/tsa_model.py:165: ValueWarning: No frequency information was provided, so inferred frequency D will be used.\n",
            "  % freq, ValueWarning)\n",
            "/usr/local/lib/python3.7/dist-packages/statsmodels/base/model.py:512: ConvergenceWarning: Maximum Likelihood optimization failed to converge. Check mle_retvals\n",
            "  \"Check mle_retvals\", ConvergenceWarning)\n",
            "/usr/local/lib/python3.7/dist-packages/statsmodels/tsa/base/tsa_model.py:165: ValueWarning: No frequency information was provided, so inferred frequency D will be used.\n",
            "  % freq, ValueWarning)\n",
            "/usr/local/lib/python3.7/dist-packages/statsmodels/tsa/base/tsa_model.py:165: ValueWarning: No frequency information was provided, so inferred frequency D will be used.\n",
            "  % freq, ValueWarning)\n",
            "/usr/local/lib/python3.7/dist-packages/statsmodels/tsa/base/tsa_model.py:165: ValueWarning: No frequency information was provided, so inferred frequency D will be used.\n",
            "  % freq, ValueWarning)\n",
            "/usr/local/lib/python3.7/dist-packages/statsmodels/tsa/base/tsa_model.py:165: ValueWarning: No frequency information was provided, so inferred frequency D will be used.\n",
            "  % freq, ValueWarning)\n",
            "/usr/local/lib/python3.7/dist-packages/statsmodels/tsa/base/tsa_model.py:165: ValueWarning: No frequency information was provided, so inferred frequency D will be used.\n",
            "  % freq, ValueWarning)\n",
            "/usr/local/lib/python3.7/dist-packages/statsmodels/tsa/base/tsa_model.py:165: ValueWarning: No frequency information was provided, so inferred frequency D will be used.\n",
            "  % freq, ValueWarning)\n",
            "/usr/local/lib/python3.7/dist-packages/statsmodels/tsa/base/tsa_model.py:165: ValueWarning: No frequency information was provided, so inferred frequency D will be used.\n",
            "  % freq, ValueWarning)\n",
            "/usr/local/lib/python3.7/dist-packages/statsmodels/tsa/base/tsa_model.py:165: ValueWarning: No frequency information was provided, so inferred frequency D will be used.\n",
            "  % freq, ValueWarning)\n",
            "/usr/local/lib/python3.7/dist-packages/statsmodels/tsa/base/tsa_model.py:165: ValueWarning: No frequency information was provided, so inferred frequency D will be used.\n",
            "  % freq, ValueWarning)\n",
            "/usr/local/lib/python3.7/dist-packages/statsmodels/tsa/base/tsa_model.py:165: ValueWarning: No frequency information was provided, so inferred frequency D will be used.\n",
            "  % freq, ValueWarning)\n",
            "/usr/local/lib/python3.7/dist-packages/statsmodels/tsa/base/tsa_model.py:165: ValueWarning: No frequency information was provided, so inferred frequency D will be used.\n",
            "  % freq, ValueWarning)\n",
            "/usr/local/lib/python3.7/dist-packages/statsmodels/tsa/base/tsa_model.py:165: ValueWarning: No frequency information was provided, so inferred frequency D will be used.\n",
            "  % freq, ValueWarning)\n",
            "/usr/local/lib/python3.7/dist-packages/statsmodels/tsa/base/tsa_model.py:165: ValueWarning: No frequency information was provided, so inferred frequency D will be used.\n",
            "  % freq, ValueWarning)\n",
            "/usr/local/lib/python3.7/dist-packages/statsmodels/tsa/base/tsa_model.py:165: ValueWarning: No frequency information was provided, so inferred frequency D will be used.\n",
            "  % freq, ValueWarning)\n",
            "/usr/local/lib/python3.7/dist-packages/statsmodels/tsa/base/tsa_model.py:165: ValueWarning: No frequency information was provided, so inferred frequency D will be used.\n",
            "  % freq, ValueWarning)\n",
            "/usr/local/lib/python3.7/dist-packages/statsmodels/tsa/base/tsa_model.py:165: ValueWarning: No frequency information was provided, so inferred frequency D will be used.\n",
            "  % freq, ValueWarning)\n",
            "/usr/local/lib/python3.7/dist-packages/statsmodels/tsa/base/tsa_model.py:165: ValueWarning: No frequency information was provided, so inferred frequency D will be used.\n",
            "  % freq, ValueWarning)\n",
            "/usr/local/lib/python3.7/dist-packages/statsmodels/tsa/base/tsa_model.py:165: ValueWarning: No frequency information was provided, so inferred frequency D will be used.\n",
            "  % freq, ValueWarning)\n",
            "/usr/local/lib/python3.7/dist-packages/statsmodels/tsa/base/tsa_model.py:165: ValueWarning: No frequency information was provided, so inferred frequency D will be used.\n",
            "  % freq, ValueWarning)\n",
            "/usr/local/lib/python3.7/dist-packages/statsmodels/tsa/base/tsa_model.py:165: ValueWarning: No frequency information was provided, so inferred frequency D will be used.\n",
            "  % freq, ValueWarning)\n"
          ],
          "name": "stderr"
        }
      ]
    },
    {
      "cell_type": "code",
      "metadata": {
        "colab": {
          "base_uri": "https://localhost:8080/"
        },
        "id": "29WDgT-anZAA",
        "outputId": "7991fea6-8f43-41f1-d90c-06603a695d74"
      },
      "source": [
        "error = [e for p, q, e in res]\n",
        "best = [res[i] for i, e in enumerate(error) if e == min(error)]\n",
        "\n",
        "best\n"
      ],
      "execution_count": 27,
      "outputs": [
        {
          "output_type": "execute_result",
          "data": {
            "text/plain": [
              "[(4, 2, 0.8800765675218827)]"
            ]
          },
          "metadata": {
            "tags": []
          },
          "execution_count": 27
        }
      ]
    },
    {
      "cell_type": "markdown",
      "metadata": {
        "id": "jSfx68ZchtyS"
      },
      "source": [
        "# 3 days"
      ]
    },
    {
      "cell_type": "code",
      "metadata": {
        "id": "V4KYLWSKhsIp"
      },
      "source": [
        "train, test = infections[:-3], infections[-3:]"
      ],
      "execution_count": 21,
      "outputs": []
    },
    {
      "cell_type": "code",
      "metadata": {
        "id": "sIeWvKEhhwGG"
      },
      "source": [
        "res=[]\n",
        "for p in range(1, 20):\n",
        "  for q in range(1, 20):\n",
        "    try:\n",
        "      model=ARMA(train, order = (p, q)).fit(disp=False)\n",
        "      res.append((p, q, mse(model.predict(len(train), len(infections)-1), test)**0.5))\n",
        "    except:\n",
        "      continue"
      ],
      "execution_count": 4,
      "outputs": []
    },
    {
      "cell_type": "code",
      "metadata": {
        "colab": {
          "base_uri": "https://localhost:8080/"
        },
        "id": "oIbZsHVqHXDo",
        "outputId": "993bc97b-d383-4723-ac1c-668ae9f4eec2"
      },
      "source": [
        "res"
      ],
      "execution_count": 33,
      "outputs": [
        {
          "output_type": "execute_result",
          "data": {
            "text/plain": [
              "[(1, 1, 258.39267819269463),\n",
              " (1, 2, 230.49621257622448),\n",
              " (1, 3, 248.1799914681229),\n",
              " (1, 4, 257.5282612060203),\n",
              " (1, 5, 271.0845802055807),\n",
              " (1, 6, 229.43019816136834),\n",
              " (1, 7, 237.82135357554748),\n",
              " (1, 9, 186.85535055721436),\n",
              " (1, 10, 182.95714758315296),\n",
              " (1, 11, 197.2966098716635),\n",
              " (1, 14, 217.73196155601292),\n",
              " (1, 16, 225.4403804760944),\n",
              " (2, 1, 249.70243967978615),\n",
              " (2, 2, 251.00833430932823),\n",
              " (2, 3, 244.38383087660458),\n",
              " (2, 4, 216.45632636916943),\n",
              " (2, 5, 206.55485340853093),\n",
              " (2, 6, 194.61778993048407),\n",
              " (2, 7, 187.9375900628726),\n",
              " (2, 8, 208.42710927498317),\n",
              " (2, 9, 212.4464864335112),\n",
              " (2, 10, 189.72544411847198),\n",
              " (2, 11, 192.94612373014004),\n",
              " (2, 12, 194.51387993238745),\n",
              " (2, 13, 199.49146263578484),\n",
              " (2, 14, 200.1683294233662),\n",
              " (2, 15, 160.17300921617186),\n",
              " (2, 16, 144.18597663920926),\n",
              " (2, 17, 144.0656358006449),\n",
              " (2, 18, 143.59004700717412),\n",
              " (2, 19, 139.4139659808267),\n",
              " (3, 1, 252.78241967252364),\n",
              " (3, 2, 248.58635974406724),\n",
              " (3, 3, 215.93496149263203),\n",
              " (3, 4, 251.1269765101867),\n",
              " (3, 5, 262.07058517541384),\n",
              " (3, 6, 214.11859889536737),\n",
              " (3, 7, 194.6390436531412),\n",
              " (3, 8, 209.9631901477484),\n",
              " (3, 9, 205.6036213973475),\n",
              " (3, 10, 190.58898437029904),\n",
              " (3, 11, 138.39923541300476),\n",
              " (3, 12, 138.10212233340985),\n",
              " (3, 13, 137.63562416824814),\n",
              " (3, 14, 156.30259208290332),\n",
              " (3, 15, 87.25932175309133),\n",
              " (3, 16, 144.22653911279338),\n",
              " (3, 17, 145.74445167832098),\n",
              " (3, 18, 167.24057345496658),\n",
              " (4, 1, 242.90771222828084),\n",
              " (4, 2, 245.75283919988277),\n",
              " (4, 3, 233.23822675562656),\n",
              " (4, 4, 235.81760555499574),\n",
              " (4, 5, 223.53512188593808),\n",
              " (4, 6, 200.66180866046778),\n",
              " (4, 7, 199.73499269025467),\n",
              " (4, 8, 191.00973671018733),\n",
              " (4, 9, 176.06775111610617),\n",
              " (4, 10, 171.07523125041308),\n",
              " (4, 11, 181.29622576540277),\n",
              " (4, 12, 101.8333074725171),\n",
              " (4, 17, 162.12471521106053),\n",
              " (4, 18, 176.03093637171386),\n",
              " (5, 1, 242.91069672765434),\n",
              " (5, 2, 244.38907110898452),\n",
              " (5, 3, 197.53744057877802),\n",
              " (5, 4, 208.43608525188944),\n",
              " (5, 5, 206.20629672919495),\n",
              " (5, 6, 204.3558789424531),\n",
              " (5, 7, 193.92825291825937),\n",
              " (5, 8, 210.84641972082125),\n",
              " (5, 9, 190.33558937156704),\n",
              " (5, 10, 140.29511994468987),\n",
              " (5, 11, 216.11229141029202),\n",
              " (5, 12, 200.34456519402),\n",
              " (6, 1, 238.25555661704857),\n",
              " (6, 2, 219.8719433373497),\n",
              " (6, 3, 218.89771757134463),\n",
              " (6, 4, 184.32016057648906),\n",
              " (6, 5, 231.44562327427977),\n",
              " (6, 7, 234.45840831416612),\n",
              " (6, 8, 235.5817627169385),\n",
              " (7, 1, 251.3116485687882),\n",
              " (7, 2, 258.44832074960806),\n",
              " (7, 3, 253.70475642025553),\n",
              " (7, 4, 193.34375515574752),\n",
              " (7, 7, 201.57951764991824),\n",
              " (7, 8, 254.98965341279742),\n",
              " (8, 1, 233.82954314209826),\n",
              " (8, 2, 201.13486895534155),\n",
              " (8, 3, 236.1602669439451),\n",
              " (8, 4, 218.343594630896),\n",
              " (8, 7, 194.0210581354921),\n",
              " (8, 8, 262.81942860045035),\n",
              " (9, 1, 241.64958336954024),\n",
              " (9, 2, 225.42737872444792),\n",
              " (9, 3, 180.73110179299067),\n",
              " (9, 4, 237.01623389485),\n",
              " (9, 8, 147.37926735884437),\n",
              " (10, 1, 200.3710808554381),\n",
              " (10, 2, 213.25819103920531),\n",
              " (10, 3, 232.5951376398348),\n",
              " (10, 4, 193.69814625589055),\n",
              " (11, 1, 211.26141081992358),\n",
              " (11, 2, 213.18328100184306),\n",
              " (11, 8, 158.65846195157349),\n",
              " (12, 1, 202.3406761741689),\n",
              " (12, 2, 208.2699278032263),\n",
              " (12, 8, 120.4932262475081),\n",
              " (13, 1, 196.76055778454338),\n",
              " (13, 2, 205.77820450019559),\n",
              " (13, 3, 184.09747378203505),\n",
              " (13, 5, 180.2378925739521),\n",
              " (14, 1, 204.11041043989465),\n",
              " (14, 2, 207.62475530015018),\n",
              " (14, 5, 176.42146841247748),\n",
              " (14, 6, 197.8142691961107),\n",
              " (14, 7, 150.5076744227594),\n",
              " (15, 1, 211.24554167682837),\n",
              " (15, 2, 186.16605748736416),\n",
              " (15, 3, 204.92619197390414),\n",
              " (15, 4, 206.58605298011105),\n",
              " (15, 5, 173.11956635282098),\n",
              " (15, 6, 247.63231334684843),\n",
              " (15, 7, 149.94315409079297),\n",
              " (15, 8, 244.30285864042196),\n",
              " (16, 1, 206.53312486191325),\n",
              " (16, 2, 183.9975525178504),\n",
              " (16, 3, 61109.10923331766),\n",
              " (16, 4, 208.45431710370195),\n",
              " (16, 5, 162.71729453242477),\n",
              " (16, 6, 246.07162972651201),\n",
              " (16, 7, 189.75918695901157),\n",
              " (16, 8, 174.66972933104432),\n",
              " (17, 1, 207.3982584703728),\n",
              " (17, 2, 188.12801314894384),\n",
              " (17, 3, 167.81226474566066),\n",
              " (17, 4, 193.84268154087232),\n",
              " (17, 5, 192.31622495299456),\n",
              " (17, 6, 211.6774270331477),\n",
              " (17, 7, 228.36080510863755),\n",
              " (17, 8, 260.1128624010892),\n",
              " (18, 1, 211.28473306108253),\n",
              " (18, 2, 207.65079292318984),\n",
              " (18, 3, 162.53442612200993),\n",
              " (18, 4, 199.90034256590025),\n",
              " (18, 5, 124.62650854891753),\n",
              " (18, 6, 225.44926677050609),\n",
              " (18, 7, 144.5214785710632),\n",
              " (18, 8, 158.48017825079611),\n",
              " (19, 1, 196.71096947027297),\n",
              " (19, 2, 265.10818305741196),\n",
              " (19, 3, 159.7622032771101),\n",
              " (19, 4, 210.63290757371826),\n",
              " (19, 5, 225.8248652462434),\n",
              " (19, 6, 262.30153018459583),\n",
              " (19, 7, 148.50282686509678),\n",
              " (19, 8, 150.7696277612572),\n",
              " (19, 9, 157.94459647728826),\n",
              " (19, 10, 171.65333403426277),\n",
              " (19, 11, 137.54416391216935),\n",
              " (19, 12, 27.75666509249)]"
            ]
          },
          "metadata": {
            "tags": []
          },
          "execution_count": 33
        }
      ]
    },
    {
      "cell_type": "code",
      "metadata": {
        "colab": {
          "base_uri": "https://localhost:8080/"
        },
        "id": "0AzILdCXnTZ4",
        "outputId": "52f51fbd-dc66-4c00-e629-288a6b8175aa"
      },
      "source": [
        "model.predict(len(train), len(infections)-1), test"
      ],
      "execution_count": null,
      "outputs": [
        {
          "output_type": "execute_result",
          "data": {
            "text/plain": [
              "(2021-06-08    3848.515346\n",
              " 2021-06-09    3800.551868\n",
              " 2021-06-10    3768.123391\n",
              " Freq: D, dtype: float64,             ave_7_num_infections\n",
              " date                            \n",
              " 2021-06-08           3761.857143\n",
              " 2021-06-09           3593.714286\n",
              " 2021-06-10           3504.714286)"
            ]
          },
          "metadata": {
            "tags": []
          },
          "execution_count": 104
        }
      ]
    },
    {
      "cell_type": "code",
      "metadata": {
        "colab": {
          "base_uri": "https://localhost:8080/"
        },
        "id": "t-IYhvAA1mcC",
        "outputId": "a8467b9a-0ad0-4395-f23b-29a0cde43a2f"
      },
      "source": [
        "error = [e for p, q, e in res]\n",
        "best = [res[i] for i, e in enumerate(error) if e == min(error)]\n",
        "\n",
        "best"
      ],
      "execution_count": 32,
      "outputs": [
        {
          "output_type": "execute_result",
          "data": {
            "text/plain": [
              "[(19, 12, 27.75666509249)]"
            ]
          },
          "metadata": {
            "tags": []
          },
          "execution_count": 32
        }
      ]
    },
    {
      "cell_type": "code",
      "metadata": {
        "colab": {
          "base_uri": "https://localhost:8080/"
        },
        "id": "DD5-jRaZGkUP",
        "outputId": "ebfae465-001f-45f6-9ce6-86ada6e82538"
      },
      "source": [
        "res2=[]\n",
        "for p in range(18, 25):\n",
        "  for q in range(10, 16):\n",
        "    try:\n",
        "      model=ARMA(train, order = (p, q)).fit(disp=False)\n",
        "      res2.append((p, q, mse(model.predict(len(train), len(infections)-1), test)**0.5))\n",
        "    except:\n",
        "      continue"
      ],
      "execution_count": null,
      "outputs": [
        {
          "output_type": "stream",
          "text": [
            "/usr/local/lib/python3.7/dist-packages/statsmodels/tsa/base/tsa_model.py:165: ValueWarning: No frequency information was provided, so inferred frequency D will be used.\n",
            "  % freq, ValueWarning)\n",
            "/usr/local/lib/python3.7/dist-packages/statsmodels/tsa/base/tsa_model.py:165: ValueWarning: No frequency information was provided, so inferred frequency D will be used.\n",
            "  % freq, ValueWarning)\n",
            "/usr/local/lib/python3.7/dist-packages/statsmodels/tsa/base/tsa_model.py:165: ValueWarning: No frequency information was provided, so inferred frequency D will be used.\n",
            "  % freq, ValueWarning)\n",
            "/usr/local/lib/python3.7/dist-packages/statsmodels/tsa/base/tsa_model.py:165: ValueWarning: No frequency information was provided, so inferred frequency D will be used.\n",
            "  % freq, ValueWarning)\n",
            "/usr/local/lib/python3.7/dist-packages/statsmodels/tsa/base/tsa_model.py:165: ValueWarning: No frequency information was provided, so inferred frequency D will be used.\n",
            "  % freq, ValueWarning)\n",
            "/usr/local/lib/python3.7/dist-packages/statsmodels/tsa/base/tsa_model.py:165: ValueWarning: No frequency information was provided, so inferred frequency D will be used.\n",
            "  % freq, ValueWarning)\n",
            "/usr/local/lib/python3.7/dist-packages/statsmodels/tsa/base/tsa_model.py:165: ValueWarning: No frequency information was provided, so inferred frequency D will be used.\n",
            "  % freq, ValueWarning)\n",
            "/usr/local/lib/python3.7/dist-packages/statsmodels/base/model.py:492: HessianInversionWarning: Inverting hessian failed, no bse or cov_params available\n",
            "  'available', HessianInversionWarning)\n",
            "/usr/local/lib/python3.7/dist-packages/statsmodels/base/model.py:512: ConvergenceWarning: Maximum Likelihood optimization failed to converge. Check mle_retvals\n",
            "  \"Check mle_retvals\", ConvergenceWarning)\n",
            "/usr/local/lib/python3.7/dist-packages/statsmodels/tsa/base/tsa_model.py:165: ValueWarning: No frequency information was provided, so inferred frequency D will be used.\n",
            "  % freq, ValueWarning)\n",
            "/usr/local/lib/python3.7/dist-packages/statsmodels/base/model.py:492: HessianInversionWarning: Inverting hessian failed, no bse or cov_params available\n",
            "  'available', HessianInversionWarning)\n",
            "/usr/local/lib/python3.7/dist-packages/statsmodels/base/model.py:512: ConvergenceWarning: Maximum Likelihood optimization failed to converge. Check mle_retvals\n",
            "  \"Check mle_retvals\", ConvergenceWarning)\n",
            "/usr/local/lib/python3.7/dist-packages/statsmodels/tsa/base/tsa_model.py:165: ValueWarning: No frequency information was provided, so inferred frequency D will be used.\n",
            "  % freq, ValueWarning)\n",
            "/usr/local/lib/python3.7/dist-packages/statsmodels/base/model.py:492: HessianInversionWarning: Inverting hessian failed, no bse or cov_params available\n",
            "  'available', HessianInversionWarning)\n",
            "/usr/local/lib/python3.7/dist-packages/statsmodels/base/model.py:512: ConvergenceWarning: Maximum Likelihood optimization failed to converge. Check mle_retvals\n",
            "  \"Check mle_retvals\", ConvergenceWarning)\n",
            "/usr/local/lib/python3.7/dist-packages/statsmodels/tsa/base/tsa_model.py:165: ValueWarning: No frequency information was provided, so inferred frequency D will be used.\n",
            "  % freq, ValueWarning)\n",
            "/usr/local/lib/python3.7/dist-packages/statsmodels/tsa/base/tsa_model.py:165: ValueWarning: No frequency information was provided, so inferred frequency D will be used.\n",
            "  % freq, ValueWarning)\n",
            "/usr/local/lib/python3.7/dist-packages/statsmodels/tsa/base/tsa_model.py:165: ValueWarning: No frequency information was provided, so inferred frequency D will be used.\n",
            "  % freq, ValueWarning)\n",
            "/usr/local/lib/python3.7/dist-packages/statsmodels/tsa/base/tsa_model.py:165: ValueWarning: No frequency information was provided, so inferred frequency D will be used.\n",
            "  % freq, ValueWarning)\n",
            "/usr/local/lib/python3.7/dist-packages/statsmodels/base/model.py:492: HessianInversionWarning: Inverting hessian failed, no bse or cov_params available\n",
            "  'available', HessianInversionWarning)\n",
            "/usr/local/lib/python3.7/dist-packages/statsmodels/base/model.py:512: ConvergenceWarning: Maximum Likelihood optimization failed to converge. Check mle_retvals\n",
            "  \"Check mle_retvals\", ConvergenceWarning)\n",
            "/usr/local/lib/python3.7/dist-packages/statsmodels/tsa/base/tsa_model.py:165: ValueWarning: No frequency information was provided, so inferred frequency D will be used.\n",
            "  % freq, ValueWarning)\n",
            "/usr/local/lib/python3.7/dist-packages/statsmodels/tsa/base/tsa_model.py:165: ValueWarning: No frequency information was provided, so inferred frequency D will be used.\n",
            "  % freq, ValueWarning)\n",
            "/usr/local/lib/python3.7/dist-packages/statsmodels/tsa/base/tsa_model.py:165: ValueWarning: No frequency information was provided, so inferred frequency D will be used.\n",
            "  % freq, ValueWarning)\n",
            "/usr/local/lib/python3.7/dist-packages/statsmodels/tsa/base/tsa_model.py:165: ValueWarning: No frequency information was provided, so inferred frequency D will be used.\n",
            "  % freq, ValueWarning)\n",
            "/usr/local/lib/python3.7/dist-packages/statsmodels/tsa/base/tsa_model.py:165: ValueWarning: No frequency information was provided, so inferred frequency D will be used.\n",
            "  % freq, ValueWarning)\n",
            "/usr/local/lib/python3.7/dist-packages/statsmodels/tsa/base/tsa_model.py:165: ValueWarning: No frequency information was provided, so inferred frequency D will be used.\n",
            "  % freq, ValueWarning)\n",
            "/usr/local/lib/python3.7/dist-packages/statsmodels/tsa/base/tsa_model.py:165: ValueWarning: No frequency information was provided, so inferred frequency D will be used.\n",
            "  % freq, ValueWarning)\n",
            "/usr/local/lib/python3.7/dist-packages/statsmodels/tsa/base/tsa_model.py:165: ValueWarning: No frequency information was provided, so inferred frequency D will be used.\n",
            "  % freq, ValueWarning)\n",
            "/usr/local/lib/python3.7/dist-packages/statsmodels/tsa/base/tsa_model.py:165: ValueWarning: No frequency information was provided, so inferred frequency D will be used.\n",
            "  % freq, ValueWarning)\n",
            "/usr/local/lib/python3.7/dist-packages/statsmodels/tsa/base/tsa_model.py:165: ValueWarning: No frequency information was provided, so inferred frequency D will be used.\n",
            "  % freq, ValueWarning)\n",
            "/usr/local/lib/python3.7/dist-packages/statsmodels/tsa/base/tsa_model.py:165: ValueWarning: No frequency information was provided, so inferred frequency D will be used.\n",
            "  % freq, ValueWarning)\n",
            "/usr/local/lib/python3.7/dist-packages/statsmodels/tsa/base/tsa_model.py:165: ValueWarning: No frequency information was provided, so inferred frequency D will be used.\n",
            "  % freq, ValueWarning)\n",
            "/usr/local/lib/python3.7/dist-packages/statsmodels/base/model.py:492: HessianInversionWarning: Inverting hessian failed, no bse or cov_params available\n",
            "  'available', HessianInversionWarning)\n",
            "/usr/local/lib/python3.7/dist-packages/statsmodels/base/model.py:512: ConvergenceWarning: Maximum Likelihood optimization failed to converge. Check mle_retvals\n",
            "  \"Check mle_retvals\", ConvergenceWarning)\n",
            "/usr/local/lib/python3.7/dist-packages/statsmodels/tsa/base/tsa_model.py:165: ValueWarning: No frequency information was provided, so inferred frequency D will be used.\n",
            "  % freq, ValueWarning)\n",
            "/usr/local/lib/python3.7/dist-packages/statsmodels/tsa/base/tsa_model.py:165: ValueWarning: No frequency information was provided, so inferred frequency D will be used.\n",
            "  % freq, ValueWarning)\n",
            "/usr/local/lib/python3.7/dist-packages/statsmodels/tsa/base/tsa_model.py:165: ValueWarning: No frequency information was provided, so inferred frequency D will be used.\n",
            "  % freq, ValueWarning)\n",
            "/usr/local/lib/python3.7/dist-packages/statsmodels/tsa/base/tsa_model.py:165: ValueWarning: No frequency information was provided, so inferred frequency D will be used.\n",
            "  % freq, ValueWarning)\n"
          ],
          "name": "stderr"
        }
      ]
    },
    {
      "cell_type": "code",
      "metadata": {
        "id": "4pIirCojGwkS"
      },
      "source": [
        "error2 = [e for p, q, e in res2]\n",
        "best2 = [res2[i] for i, e in enumerate(error2) if e == min(error2)]\n",
        "\n",
        "best2"
      ],
      "execution_count": null,
      "outputs": []
    },
    {
      "cell_type": "code",
      "metadata": {
        "colab": {
          "base_uri": "https://localhost:8080/"
        },
        "id": "OqAeTEWDz3JI",
        "outputId": "f9193f33-2177-4dff-abdf-30e7273e4c4c"
      },
      "source": [
        "error = [e for p, q, e in res]\n",
        "best = [res[i] for i, e in enumerate(error) if e == min(error)]\n",
        "\n",
        "best"
      ],
      "execution_count": 30,
      "outputs": [
        {
          "output_type": "execute_result",
          "data": {
            "text/plain": [
              "[(4, 12, 101.8333074725171)]"
            ]
          },
          "metadata": {
            "tags": []
          },
          "execution_count": 30
        }
      ]
    },
    {
      "cell_type": "code",
      "metadata": {
        "colab": {
          "base_uri": "https://localhost:8080/"
        },
        "id": "KsqGgjAcr9-6",
        "outputId": "6161a5a7-dcc8-46a3-d630-b715f19b5724"
      },
      "source": [
        "error = [e for p, q, e in res]\n",
        "best = [res[i] for i, e in enumerate(error) if e == min(error)]\n",
        "\n",
        "best"
      ],
      "execution_count": null,
      "outputs": [
        {
          "output_type": "execute_result",
          "data": {
            "text/plain": [
              "[(4, 9, 176.02166986878916)]"
            ]
          },
          "metadata": {
            "tags": []
          },
          "execution_count": 123
        }
      ]
    },
    {
      "cell_type": "code",
      "metadata": {
        "colab": {
          "base_uri": "https://localhost:8080/"
        },
        "id": "MEnzfTrfl5fq",
        "outputId": "ec7dce46-0227-4401-9a85-988bd85245eb"
      },
      "source": [
        "error = [e for p, q, e in res]\n",
        "best = [res[i] for i, e in enumerate(error) if e == min(error)]\n",
        "\n",
        "best"
      ],
      "execution_count": null,
      "outputs": [
        {
          "output_type": "execute_result",
          "data": {
            "text/plain": [
              "[(2, 7, 187.92415291857648)]"
            ]
          },
          "metadata": {
            "tags": []
          },
          "execution_count": 98
        }
      ]
    },
    {
      "cell_type": "markdown",
      "metadata": {
        "id": "nfXMiin-qVS5"
      },
      "source": [
        "## 5 days"
      ]
    },
    {
      "cell_type": "code",
      "metadata": {
        "id": "kA2nwY2VnLuG"
      },
      "source": [
        "train, test = infections[:-5], infections[-5:]"
      ],
      "execution_count": null,
      "outputs": []
    },
    {
      "cell_type": "code",
      "metadata": {
        "colab": {
          "base_uri": "https://localhost:8080/"
        },
        "id": "EJ1WEH6fqcYC",
        "outputId": "a49abec1-fdf9-43eb-f54d-a31d0cb953c2"
      },
      "source": [
        "model=ARMA(train, order = (8, 7)).fit(disp=False)\n",
        "mse(model.predict(len(train), len(infections)-1), test)**0.5"
      ],
      "execution_count": null,
      "outputs": [
        {
          "output_type": "stream",
          "text": [
            "/usr/local/lib/python3.7/dist-packages/statsmodels/tsa/base/tsa_model.py:165: ValueWarning: No frequency information was provided, so inferred frequency D will be used.\n",
            "  % freq, ValueWarning)\n",
            "/usr/local/lib/python3.7/dist-packages/statsmodels/base/model.py:492: HessianInversionWarning: Inverting hessian failed, no bse or cov_params available\n",
            "  'available', HessianInversionWarning)\n"
          ],
          "name": "stderr"
        },
        {
          "output_type": "execute_result",
          "data": {
            "text/plain": [
              "239.5150638824939"
            ]
          },
          "metadata": {
            "tags": []
          },
          "execution_count": 114
        }
      ]
    },
    {
      "cell_type": "code",
      "metadata": {
        "id": "3DeMQ8dzrfJ0"
      },
      "source": [
        "res=[]\n",
        "for p in range(1, 9):\n",
        "  for q in range(1, 10):\n",
        "    try:\n",
        "      model=ARMA(train, order = (p, q)).fit(disp=False)\n",
        "      res.append((p, q, mse(model.predict(len(train), len(infections)-1), test)**0.5))\n",
        "    except:\n",
        "      continue"
      ],
      "execution_count": null,
      "outputs": []
    },
    {
      "cell_type": "code",
      "metadata": {
        "colab": {
          "base_uri": "https://localhost:8080/"
        },
        "id": "CY9hhA68qW5P",
        "outputId": "0c867cb6-baaa-4e85-896e-b4a0ebcefddc"
      },
      "source": [
        "mse(model.predict(len(train), len(infections)-1), test)**0.5"
      ],
      "execution_count": null,
      "outputs": [
        {
          "output_type": "execute_result",
          "data": {
            "text/plain": [
              "333.239000581947"
            ]
          },
          "metadata": {
            "tags": []
          },
          "execution_count": 107
        }
      ]
    },
    {
      "cell_type": "code",
      "metadata": {
        "id": "HEou6ZomqW28"
      },
      "source": [
        "res=[]\n",
        "for p in range(1, 5):\n",
        "  for q in range(1, 8):\n",
        "    model=ARMA(train, order = (p, q)).fit(disp=False)\n",
        "    res.append((p, q, mse(model.predict(len(train), len(infections)-1), test)**0.5))"
      ],
      "execution_count": null,
      "outputs": []
    },
    {
      "cell_type": "markdown",
      "metadata": {
        "id": "ukIG_TDsP2V7"
      },
      "source": [
        "# 7 days"
      ]
    },
    {
      "cell_type": "code",
      "metadata": {
        "id": "Znfko0KoqW0R"
      },
      "source": [
        "train, test = infections[:-7], infections[-7:]"
      ],
      "execution_count": 20,
      "outputs": []
    },
    {
      "cell_type": "code",
      "metadata": {
        "id": "jy60UWgyP7N_"
      },
      "source": [
        "res2=[]\n",
        "for p in range(19, 25):\n",
        "  for q in range(10, 19):\n",
        "    try:\n",
        "      model=ARMA(train, order = (p, q)).fit(disp=False)\n",
        "      res2.append((p, q, mse(model.predict(len(train), len(infections)-1), test)**0.5))\n",
        "    except:\n",
        "      continue"
      ],
      "execution_count": 19,
      "outputs": []
    },
    {
      "cell_type": "code",
      "metadata": {
        "id": "_3to8OWEQL90"
      },
      "source": [
        ""
      ],
      "execution_count": null,
      "outputs": []
    },
    {
      "cell_type": "markdown",
      "metadata": {
        "id": "g1dhr40zraPk"
      },
      "source": [
        "# num_hosp"
      ]
    },
    {
      "cell_type": "code",
      "metadata": {
        "id": "SXPoCgI7mtEJ",
        "colab": {
          "base_uri": "https://localhost:8080/",
          "height": 204
        },
        "outputId": "ecb96a3e-2d22-4590-aa25-2ebd75ec0673"
      },
      "source": [
        "bydate.head()"
      ],
      "execution_count": null,
      "outputs": [
        {
          "output_type": "execute_result",
          "data": {
            "text/html": [
              "<div>\n",
              "<style scoped>\n",
              "    .dataframe tbody tr th:only-of-type {\n",
              "        vertical-align: middle;\n",
              "    }\n",
              "\n",
              "    .dataframe tbody tr th {\n",
              "        vertical-align: top;\n",
              "    }\n",
              "\n",
              "    .dataframe thead th {\n",
              "        text-align: right;\n",
              "    }\n",
              "</style>\n",
              "<table border=\"1\" class=\"dataframe\">\n",
              "  <thead>\n",
              "    <tr style=\"text-align: right;\">\n",
              "      <th></th>\n",
              "      <th>date</th>\n",
              "      <th>num_infections</th>\n",
              "      <th>num_hosp</th>\n",
              "      <th>num_uci</th>\n",
              "      <th>num_dead</th>\n",
              "      <th>cumu_num_infections</th>\n",
              "      <th>cumu_num_hosp</th>\n",
              "      <th>cumu_num_uci</th>\n",
              "      <th>cumu_num_dead</th>\n",
              "      <th>ave_7_num_infections</th>\n",
              "      <th>ave_7_num_hosp</th>\n",
              "      <th>ave_7_num_uci</th>\n",
              "      <th>ave_7_num_dead</th>\n",
              "    </tr>\n",
              "  </thead>\n",
              "  <tbody>\n",
              "    <tr>\n",
              "      <th>0</th>\n",
              "      <td>2020-01-18</td>\n",
              "      <td>1</td>\n",
              "      <td>1</td>\n",
              "      <td>0</td>\n",
              "      <td>0</td>\n",
              "      <td>1</td>\n",
              "      <td>1</td>\n",
              "      <td>0</td>\n",
              "      <td>0</td>\n",
              "      <td>NaN</td>\n",
              "      <td>NaN</td>\n",
              "      <td>NaN</td>\n",
              "      <td>NaN</td>\n",
              "    </tr>\n",
              "    <tr>\n",
              "      <th>1</th>\n",
              "      <td>2020-01-31</td>\n",
              "      <td>1</td>\n",
              "      <td>0</td>\n",
              "      <td>0</td>\n",
              "      <td>0</td>\n",
              "      <td>2</td>\n",
              "      <td>1</td>\n",
              "      <td>0</td>\n",
              "      <td>0</td>\n",
              "      <td>NaN</td>\n",
              "      <td>NaN</td>\n",
              "      <td>NaN</td>\n",
              "      <td>NaN</td>\n",
              "    </tr>\n",
              "    <tr>\n",
              "      <th>2</th>\n",
              "      <td>2020-02-09</td>\n",
              "      <td>1</td>\n",
              "      <td>1</td>\n",
              "      <td>0</td>\n",
              "      <td>0</td>\n",
              "      <td>3</td>\n",
              "      <td>2</td>\n",
              "      <td>0</td>\n",
              "      <td>0</td>\n",
              "      <td>NaN</td>\n",
              "      <td>NaN</td>\n",
              "      <td>NaN</td>\n",
              "      <td>NaN</td>\n",
              "    </tr>\n",
              "    <tr>\n",
              "      <th>3</th>\n",
              "      <td>2020-02-12</td>\n",
              "      <td>3</td>\n",
              "      <td>0</td>\n",
              "      <td>0</td>\n",
              "      <td>0</td>\n",
              "      <td>6</td>\n",
              "      <td>2</td>\n",
              "      <td>0</td>\n",
              "      <td>0</td>\n",
              "      <td>NaN</td>\n",
              "      <td>NaN</td>\n",
              "      <td>NaN</td>\n",
              "      <td>NaN</td>\n",
              "    </tr>\n",
              "    <tr>\n",
              "      <th>4</th>\n",
              "      <td>2020-02-21</td>\n",
              "      <td>1</td>\n",
              "      <td>0</td>\n",
              "      <td>0</td>\n",
              "      <td>0</td>\n",
              "      <td>7</td>\n",
              "      <td>2</td>\n",
              "      <td>0</td>\n",
              "      <td>0</td>\n",
              "      <td>NaN</td>\n",
              "      <td>NaN</td>\n",
              "      <td>NaN</td>\n",
              "      <td>NaN</td>\n",
              "    </tr>\n",
              "  </tbody>\n",
              "</table>\n",
              "</div>"
            ],
            "text/plain": [
              "        date  num_infections  ...  ave_7_num_uci  ave_7_num_dead\n",
              "0 2020-01-18               1  ...            NaN             NaN\n",
              "1 2020-01-31               1  ...            NaN             NaN\n",
              "2 2020-02-09               1  ...            NaN             NaN\n",
              "3 2020-02-12               3  ...            NaN             NaN\n",
              "4 2020-02-21               1  ...            NaN             NaN\n",
              "\n",
              "[5 rows x 13 columns]"
            ]
          },
          "metadata": {
            "tags": []
          },
          "execution_count": 55
        }
      ]
    },
    {
      "cell_type": "code",
      "metadata": {
        "id": "7npVCtw3mtBe"
      },
      "source": [
        "hosp = bydate[['date', 'ave_7_num_hosp']].set_index('date')"
      ],
      "execution_count": null,
      "outputs": []
    },
    {
      "cell_type": "code",
      "metadata": {
        "id": "hQ7-PiYFms4M"
      },
      "source": [
        "hosp = hosp[6:]"
      ],
      "execution_count": null,
      "outputs": []
    },
    {
      "cell_type": "code",
      "metadata": {
        "id": "cj5FciCnrnkO"
      },
      "source": [
        "train, test = hosp[:-1], hosp[-1:]"
      ],
      "execution_count": null,
      "outputs": []
    },
    {
      "cell_type": "code",
      "metadata": {
        "colab": {
          "base_uri": "https://localhost:8080/",
          "height": 110
        },
        "id": "xTFPumfusY7Q",
        "outputId": "3964f533-bb5b-4ff6-edc4-04d7837538dc"
      },
      "source": [
        "test"
      ],
      "execution_count": null,
      "outputs": [
        {
          "output_type": "execute_result",
          "data": {
            "text/html": [
              "<div>\n",
              "<style scoped>\n",
              "    .dataframe tbody tr th:only-of-type {\n",
              "        vertical-align: middle;\n",
              "    }\n",
              "\n",
              "    .dataframe tbody tr th {\n",
              "        vertical-align: top;\n",
              "    }\n",
              "\n",
              "    .dataframe thead th {\n",
              "        text-align: right;\n",
              "    }\n",
              "</style>\n",
              "<table border=\"1\" class=\"dataframe\">\n",
              "  <thead>\n",
              "    <tr style=\"text-align: right;\">\n",
              "      <th></th>\n",
              "      <th>ave_7_num_hosp</th>\n",
              "    </tr>\n",
              "    <tr>\n",
              "      <th>date</th>\n",
              "      <th></th>\n",
              "    </tr>\n",
              "  </thead>\n",
              "  <tbody>\n",
              "    <tr>\n",
              "      <th>2021-06-10</th>\n",
              "      <td>165.571429</td>\n",
              "    </tr>\n",
              "  </tbody>\n",
              "</table>\n",
              "</div>"
            ],
            "text/plain": [
              "            ave_7_num_hosp\n",
              "date                      \n",
              "2021-06-10      165.571429"
            ]
          },
          "metadata": {
            "tags": []
          },
          "execution_count": 59
        }
      ]
    },
    {
      "cell_type": "code",
      "metadata": {
        "colab": {
          "base_uri": "https://localhost:8080/"
        },
        "id": "vWPku4zWr6G1",
        "outputId": "df76b8e4-2179-4c67-82eb-4866c60cbf20"
      },
      "source": [
        "model=ARMA(train, order = (7, 2)).fit(disp=False)"
      ],
      "execution_count": null,
      "outputs": [
        {
          "output_type": "stream",
          "text": [
            "/usr/local/lib/python3.7/dist-packages/statsmodels/tsa/base/tsa_model.py:165: ValueWarning: No frequency information was provided, so inferred frequency D will be used.\n",
            "  % freq, ValueWarning)\n",
            "/usr/local/lib/python3.7/dist-packages/statsmodels/base/model.py:512: ConvergenceWarning: Maximum Likelihood optimization failed to converge. Check mle_retvals\n",
            "  \"Check mle_retvals\", ConvergenceWarning)\n"
          ],
          "name": "stderr"
        }
      ]
    },
    {
      "cell_type": "code",
      "metadata": {
        "colab": {
          "base_uri": "https://localhost:8080/"
        },
        "id": "pvS_xZuIr-En",
        "outputId": "97062bba-3b39-460c-e579-9c3615974b53"
      },
      "source": [
        "model.predict(len(train), len(hosp)-1)"
      ],
      "execution_count": null,
      "outputs": [
        {
          "output_type": "execute_result",
          "data": {
            "text/plain": [
              "2021-06-10    164.650501\n",
              "Freq: D, dtype: float64"
            ]
          },
          "metadata": {
            "tags": []
          },
          "execution_count": 69
        }
      ]
    },
    {
      "cell_type": "code",
      "metadata": {
        "colab": {
          "base_uri": "https://localhost:8080/"
        },
        "id": "ClVdVxw_rnhx",
        "outputId": "0793582b-907e-4937-9377-ba751ded6d3c"
      },
      "source": [
        "res=[]\n",
        "for p in range(1, 5):\n",
        "  for q in range(1, 3):\n",
        "    model=ARMA(train, order = (p, q)).fit(disp=False)\n",
        "    res.append((p, q, mse(model.predict(len(train), len(hosp)-1), test)**0.5))"
      ],
      "execution_count": null,
      "outputs": [
        {
          "output_type": "stream",
          "text": [
            "/usr/local/lib/python3.7/dist-packages/statsmodels/tsa/base/tsa_model.py:165: ValueWarning: No frequency information was provided, so inferred frequency D will be used.\n",
            "  % freq, ValueWarning)\n",
            "/usr/local/lib/python3.7/dist-packages/statsmodels/tsa/base/tsa_model.py:165: ValueWarning: No frequency information was provided, so inferred frequency D will be used.\n",
            "  % freq, ValueWarning)\n",
            "/usr/local/lib/python3.7/dist-packages/statsmodels/tsa/base/tsa_model.py:165: ValueWarning: No frequency information was provided, so inferred frequency D will be used.\n",
            "  % freq, ValueWarning)\n",
            "/usr/local/lib/python3.7/dist-packages/statsmodels/base/model.py:512: ConvergenceWarning: Maximum Likelihood optimization failed to converge. Check mle_retvals\n",
            "  \"Check mle_retvals\", ConvergenceWarning)\n",
            "/usr/local/lib/python3.7/dist-packages/statsmodels/tsa/base/tsa_model.py:165: ValueWarning: No frequency information was provided, so inferred frequency D will be used.\n",
            "  % freq, ValueWarning)\n",
            "/usr/local/lib/python3.7/dist-packages/statsmodels/tsa/base/tsa_model.py:165: ValueWarning: No frequency information was provided, so inferred frequency D will be used.\n",
            "  % freq, ValueWarning)\n",
            "/usr/local/lib/python3.7/dist-packages/statsmodels/base/model.py:512: ConvergenceWarning: Maximum Likelihood optimization failed to converge. Check mle_retvals\n",
            "  \"Check mle_retvals\", ConvergenceWarning)\n",
            "/usr/local/lib/python3.7/dist-packages/statsmodels/tsa/base/tsa_model.py:165: ValueWarning: No frequency information was provided, so inferred frequency D will be used.\n",
            "  % freq, ValueWarning)\n",
            "/usr/local/lib/python3.7/dist-packages/statsmodels/base/model.py:512: ConvergenceWarning: Maximum Likelihood optimization failed to converge. Check mle_retvals\n",
            "  \"Check mle_retvals\", ConvergenceWarning)\n",
            "/usr/local/lib/python3.7/dist-packages/statsmodels/tsa/base/tsa_model.py:165: ValueWarning: No frequency information was provided, so inferred frequency D will be used.\n",
            "  % freq, ValueWarning)\n",
            "/usr/local/lib/python3.7/dist-packages/statsmodels/base/model.py:512: ConvergenceWarning: Maximum Likelihood optimization failed to converge. Check mle_retvals\n",
            "  \"Check mle_retvals\", ConvergenceWarning)\n",
            "/usr/local/lib/python3.7/dist-packages/statsmodels/tsa/base/tsa_model.py:165: ValueWarning: No frequency information was provided, so inferred frequency D will be used.\n",
            "  % freq, ValueWarning)\n",
            "/usr/local/lib/python3.7/dist-packages/statsmodels/base/model.py:512: ConvergenceWarning: Maximum Likelihood optimization failed to converge. Check mle_retvals\n",
            "  \"Check mle_retvals\", ConvergenceWarning)\n"
          ],
          "name": "stderr"
        }
      ]
    },
    {
      "cell_type": "code",
      "metadata": {
        "colab": {
          "base_uri": "https://localhost:8080/"
        },
        "id": "8ZiW5LoDrnfG",
        "outputId": "41d59adb-61c6-4171-d34d-bc961f48671b"
      },
      "source": [
        "error = [e for p, q, e in res]\n",
        "best = [res[i] for i, e in enumerate(error) if e == min(error)]\n",
        "\n",
        "best"
      ],
      "execution_count": null,
      "outputs": [
        {
          "output_type": "execute_result",
          "data": {
            "text/plain": [
              "[(2, 2, 0.4907650071718308)]"
            ]
          },
          "metadata": {
            "tags": []
          },
          "execution_count": 76
        }
      ]
    },
    {
      "cell_type": "markdown",
      "metadata": {
        "id": "ruaV0Lhgsx0u"
      },
      "source": [
        "# num_uci"
      ]
    },
    {
      "cell_type": "code",
      "metadata": {
        "id": "lnhKe-_Dso3Z"
      },
      "source": [
        "uci = bydate[['date', 'ave_7_num_uci']].set_index('date')"
      ],
      "execution_count": null,
      "outputs": []
    },
    {
      "cell_type": "code",
      "metadata": {
        "id": "B5lTFvFls0hP"
      },
      "source": [
        "uci = uci[6:]"
      ],
      "execution_count": null,
      "outputs": []
    },
    {
      "cell_type": "code",
      "metadata": {
        "id": "5CDCiQZts0dj"
      },
      "source": [
        "train, test = uci[:-1], uci[-1:]"
      ],
      "execution_count": null,
      "outputs": []
    },
    {
      "cell_type": "code",
      "metadata": {
        "colab": {
          "base_uri": "https://localhost:8080/",
          "height": 110
        },
        "id": "-_oxk2_Ss0bZ",
        "outputId": "d4de4479-4cb0-41ce-b32f-60e8e99740f2"
      },
      "source": [
        "test"
      ],
      "execution_count": null,
      "outputs": [
        {
          "output_type": "execute_result",
          "data": {
            "text/html": [
              "<div>\n",
              "<style scoped>\n",
              "    .dataframe tbody tr th:only-of-type {\n",
              "        vertical-align: middle;\n",
              "    }\n",
              "\n",
              "    .dataframe tbody tr th {\n",
              "        vertical-align: top;\n",
              "    }\n",
              "\n",
              "    .dataframe thead th {\n",
              "        text-align: right;\n",
              "    }\n",
              "</style>\n",
              "<table border=\"1\" class=\"dataframe\">\n",
              "  <thead>\n",
              "    <tr style=\"text-align: right;\">\n",
              "      <th></th>\n",
              "      <th>ave_7_num_uci</th>\n",
              "    </tr>\n",
              "    <tr>\n",
              "      <th>date</th>\n",
              "      <th></th>\n",
              "    </tr>\n",
              "  </thead>\n",
              "  <tbody>\n",
              "    <tr>\n",
              "      <th>2021-06-10</th>\n",
              "      <td>3.714286</td>\n",
              "    </tr>\n",
              "  </tbody>\n",
              "</table>\n",
              "</div>"
            ],
            "text/plain": [
              "            ave_7_num_uci\n",
              "date                     \n",
              "2021-06-10       3.714286"
            ]
          },
          "metadata": {
            "tags": []
          },
          "execution_count": 133
        }
      ]
    },
    {
      "cell_type": "code",
      "metadata": {
        "colab": {
          "base_uri": "https://localhost:8080/"
        },
        "id": "L3PlG944tCR2",
        "outputId": "a581804c-dbe6-40e9-aab1-a49bc28bc125"
      },
      "source": [
        "model=ARMA(train, order = (1, 5)).fit(disp=False)"
      ],
      "execution_count": null,
      "outputs": [
        {
          "output_type": "stream",
          "text": [
            "/usr/local/lib/python3.7/dist-packages/statsmodels/tsa/base/tsa_model.py:165: ValueWarning: No frequency information was provided, so inferred frequency D will be used.\n",
            "  % freq, ValueWarning)\n",
            "/usr/local/lib/python3.7/dist-packages/statsmodels/base/model.py:492: HessianInversionWarning: Inverting hessian failed, no bse or cov_params available\n",
            "  'available', HessianInversionWarning)\n"
          ],
          "name": "stderr"
        }
      ]
    },
    {
      "cell_type": "code",
      "metadata": {
        "colab": {
          "base_uri": "https://localhost:8080/"
        },
        "id": "zGtzXAkatCPg",
        "outputId": "0df31cda-6b3b-458f-d834-c491b36a9862"
      },
      "source": [
        "model.predict(len(train), len(uci)-1)"
      ],
      "execution_count": null,
      "outputs": [
        {
          "output_type": "execute_result",
          "data": {
            "text/plain": [
              "2021-06-10    3.642109\n",
              "Freq: D, dtype: float64"
            ]
          },
          "metadata": {
            "tags": []
          },
          "execution_count": 144
        }
      ]
    },
    {
      "cell_type": "code",
      "metadata": {
        "colab": {
          "base_uri": "https://localhost:8080/"
        },
        "id": "msRocVpztJ9x",
        "outputId": "37c7eeef-ffd4-49ad-d96e-6030ee428078"
      },
      "source": [
        "res=[]\n",
        "for p in range(1, 5):\n",
        "  for q in range(1, 5):\n",
        "    model=ARMA(train, order = (p, q)).fit(disp=False)\n",
        "    res.append((p, q, mse(model.predict(len(train), len(uci)-1), test)**0.5))"
      ],
      "execution_count": null,
      "outputs": [
        {
          "output_type": "stream",
          "text": [
            "/usr/local/lib/python3.7/dist-packages/statsmodels/tsa/base/tsa_model.py:165: ValueWarning: No frequency information was provided, so inferred frequency D will be used.\n",
            "  % freq, ValueWarning)\n",
            "/usr/local/lib/python3.7/dist-packages/statsmodels/tsa/base/tsa_model.py:165: ValueWarning: No frequency information was provided, so inferred frequency D will be used.\n",
            "  % freq, ValueWarning)\n",
            "/usr/local/lib/python3.7/dist-packages/statsmodels/tsa/base/tsa_model.py:165: ValueWarning: No frequency information was provided, so inferred frequency D will be used.\n",
            "  % freq, ValueWarning)\n",
            "/usr/local/lib/python3.7/dist-packages/statsmodels/tsa/base/tsa_model.py:165: ValueWarning: No frequency information was provided, so inferred frequency D will be used.\n",
            "  % freq, ValueWarning)\n",
            "/usr/local/lib/python3.7/dist-packages/statsmodels/tsa/base/tsa_model.py:165: ValueWarning: No frequency information was provided, so inferred frequency D will be used.\n",
            "  % freq, ValueWarning)\n",
            "/usr/local/lib/python3.7/dist-packages/statsmodels/tsa/base/tsa_model.py:165: ValueWarning: No frequency information was provided, so inferred frequency D will be used.\n",
            "  % freq, ValueWarning)\n",
            "/usr/local/lib/python3.7/dist-packages/statsmodels/base/model.py:512: ConvergenceWarning: Maximum Likelihood optimization failed to converge. Check mle_retvals\n",
            "  \"Check mle_retvals\", ConvergenceWarning)\n",
            "/usr/local/lib/python3.7/dist-packages/statsmodels/tsa/base/tsa_model.py:165: ValueWarning: No frequency information was provided, so inferred frequency D will be used.\n",
            "  % freq, ValueWarning)\n",
            "/usr/local/lib/python3.7/dist-packages/statsmodels/tsa/base/tsa_model.py:165: ValueWarning: No frequency information was provided, so inferred frequency D will be used.\n",
            "  % freq, ValueWarning)\n",
            "/usr/local/lib/python3.7/dist-packages/statsmodels/tsa/base/tsa_model.py:165: ValueWarning: No frequency information was provided, so inferred frequency D will be used.\n",
            "  % freq, ValueWarning)\n",
            "/usr/local/lib/python3.7/dist-packages/statsmodels/tsa/base/tsa_model.py:165: ValueWarning: No frequency information was provided, so inferred frequency D will be used.\n",
            "  % freq, ValueWarning)\n",
            "/usr/local/lib/python3.7/dist-packages/statsmodels/tsa/base/tsa_model.py:165: ValueWarning: No frequency information was provided, so inferred frequency D will be used.\n",
            "  % freq, ValueWarning)\n",
            "/usr/local/lib/python3.7/dist-packages/statsmodels/tsa/base/tsa_model.py:165: ValueWarning: No frequency information was provided, so inferred frequency D will be used.\n",
            "  % freq, ValueWarning)\n",
            "/usr/local/lib/python3.7/dist-packages/statsmodels/tsa/base/tsa_model.py:165: ValueWarning: No frequency information was provided, so inferred frequency D will be used.\n",
            "  % freq, ValueWarning)\n",
            "/usr/local/lib/python3.7/dist-packages/statsmodels/tsa/base/tsa_model.py:165: ValueWarning: No frequency information was provided, so inferred frequency D will be used.\n",
            "  % freq, ValueWarning)\n",
            "/usr/local/lib/python3.7/dist-packages/statsmodels/tsa/base/tsa_model.py:165: ValueWarning: No frequency information was provided, so inferred frequency D will be used.\n",
            "  % freq, ValueWarning)\n",
            "/usr/local/lib/python3.7/dist-packages/statsmodels/tsa/base/tsa_model.py:165: ValueWarning: No frequency information was provided, so inferred frequency D will be used.\n",
            "  % freq, ValueWarning)\n"
          ],
          "name": "stderr"
        }
      ]
    },
    {
      "cell_type": "code",
      "metadata": {
        "colab": {
          "base_uri": "https://localhost:8080/"
        },
        "id": "L0seLYNrtXwh",
        "outputId": "e18361a3-2f63-4d56-ca81-3027e6740ba4"
      },
      "source": [
        "error = [e for p, q, e in res]\n",
        "best = [res[i] for i, e in enumerate(error) if e == min(error)]\n",
        "\n",
        "best"
      ],
      "execution_count": null,
      "outputs": [
        {
          "output_type": "execute_result",
          "data": {
            "text/plain": [
              "[(2, 4, 0.0033038022111191445)]"
            ]
          },
          "metadata": {
            "tags": []
          },
          "execution_count": 146
        }
      ]
    },
    {
      "cell_type": "markdown",
      "metadata": {
        "id": "SMbx5wqFtw1v"
      },
      "source": [
        "# num_dead"
      ]
    },
    {
      "cell_type": "code",
      "metadata": {
        "id": "Z3VCmC9Gtlu9"
      },
      "source": [
        "dead = bydate[['date', 'ave_7_num_dead']].set_index('date')"
      ],
      "execution_count": null,
      "outputs": []
    },
    {
      "cell_type": "code",
      "metadata": {
        "id": "-K_Nrvk8tvNb"
      },
      "source": [
        "dead = dead[6:]"
      ],
      "execution_count": null,
      "outputs": []
    },
    {
      "cell_type": "code",
      "metadata": {
        "id": "zMHzbmd8tvKj"
      },
      "source": [
        "train, test = dead[:-1], dead[-1:]"
      ],
      "execution_count": null,
      "outputs": []
    },
    {
      "cell_type": "code",
      "metadata": {
        "colab": {
          "base_uri": "https://localhost:8080/",
          "height": 110
        },
        "id": "nQLLQ5IjtvIV",
        "outputId": "a345bd5e-27f3-446f-b805-cb432fa9ec66"
      },
      "source": [
        "test"
      ],
      "execution_count": null,
      "outputs": [
        {
          "output_type": "execute_result",
          "data": {
            "text/html": [
              "<div>\n",
              "<style scoped>\n",
              "    .dataframe tbody tr th:only-of-type {\n",
              "        vertical-align: middle;\n",
              "    }\n",
              "\n",
              "    .dataframe tbody tr th {\n",
              "        vertical-align: top;\n",
              "    }\n",
              "\n",
              "    .dataframe thead th {\n",
              "        text-align: right;\n",
              "    }\n",
              "</style>\n",
              "<table border=\"1\" class=\"dataframe\">\n",
              "  <thead>\n",
              "    <tr style=\"text-align: right;\">\n",
              "      <th></th>\n",
              "      <th>ave_7_num_dead</th>\n",
              "    </tr>\n",
              "    <tr>\n",
              "      <th>date</th>\n",
              "      <th></th>\n",
              "    </tr>\n",
              "  </thead>\n",
              "  <tbody>\n",
              "    <tr>\n",
              "      <th>2021-06-10</th>\n",
              "      <td>3.428571</td>\n",
              "    </tr>\n",
              "  </tbody>\n",
              "</table>\n",
              "</div>"
            ],
            "text/plain": [
              "            ave_7_num_dead\n",
              "date                      \n",
              "2021-06-10        3.428571"
            ]
          },
          "metadata": {
            "tags": []
          },
          "execution_count": 150
        }
      ]
    },
    {
      "cell_type": "code",
      "metadata": {
        "colab": {
          "base_uri": "https://localhost:8080/"
        },
        "id": "GUI4p_UAuEPR",
        "outputId": "e816ee66-84ae-4263-c57f-090959707391"
      },
      "source": [
        "model=ARMA(train, order = (1, 3)).fit(disp=False)"
      ],
      "execution_count": null,
      "outputs": [
        {
          "output_type": "stream",
          "text": [
            "/usr/local/lib/python3.7/dist-packages/statsmodels/tsa/base/tsa_model.py:165: ValueWarning: No frequency information was provided, so inferred frequency D will be used.\n",
            "  % freq, ValueWarning)\n"
          ],
          "name": "stderr"
        }
      ]
    },
    {
      "cell_type": "code",
      "metadata": {
        "colab": {
          "base_uri": "https://localhost:8080/"
        },
        "id": "M_2eSJmIuEM5",
        "outputId": "974fea4f-cee3-4d95-d791-82336127bf0e"
      },
      "source": [
        "model.predict(len(train), len(dead)-1)"
      ],
      "execution_count": null,
      "outputs": [
        {
          "output_type": "execute_result",
          "data": {
            "text/plain": [
              "2021-06-10    4.007331\n",
              "Freq: D, dtype: float64"
            ]
          },
          "metadata": {
            "tags": []
          },
          "execution_count": 155
        }
      ]
    },
    {
      "cell_type": "code",
      "metadata": {
        "colab": {
          "base_uri": "https://localhost:8080/"
        },
        "id": "bpMB-f1zuLvP",
        "outputId": "6d55439f-b2a2-447a-cd35-6b0b2aaffef6"
      },
      "source": [
        "res=[]\n",
        "for p in range(1, 5):\n",
        "  for q in range(1, 4):\n",
        "    model=ARMA(train, order = (p, q)).fit(disp=False)\n",
        "    res.append((p, q, mse(model.predict(len(train), len(uci)-1), test)**0.5))"
      ],
      "execution_count": null,
      "outputs": [
        {
          "output_type": "stream",
          "text": [
            "/usr/local/lib/python3.7/dist-packages/statsmodels/tsa/base/tsa_model.py:165: ValueWarning: No frequency information was provided, so inferred frequency D will be used.\n",
            "  % freq, ValueWarning)\n",
            "/usr/local/lib/python3.7/dist-packages/statsmodels/tsa/base/tsa_model.py:165: ValueWarning: No frequency information was provided, so inferred frequency D will be used.\n",
            "  % freq, ValueWarning)\n",
            "/usr/local/lib/python3.7/dist-packages/statsmodels/base/model.py:492: HessianInversionWarning: Inverting hessian failed, no bse or cov_params available\n",
            "  'available', HessianInversionWarning)\n",
            "/usr/local/lib/python3.7/dist-packages/statsmodels/tsa/base/tsa_model.py:165: ValueWarning: No frequency information was provided, so inferred frequency D will be used.\n",
            "  % freq, ValueWarning)\n",
            "/usr/local/lib/python3.7/dist-packages/statsmodels/tsa/base/tsa_model.py:165: ValueWarning: No frequency information was provided, so inferred frequency D will be used.\n",
            "  % freq, ValueWarning)\n",
            "/usr/local/lib/python3.7/dist-packages/statsmodels/tsa/base/tsa_model.py:165: ValueWarning: No frequency information was provided, so inferred frequency D will be used.\n",
            "  % freq, ValueWarning)\n",
            "/usr/local/lib/python3.7/dist-packages/statsmodels/tsa/base/tsa_model.py:165: ValueWarning: No frequency information was provided, so inferred frequency D will be used.\n",
            "  % freq, ValueWarning)\n",
            "/usr/local/lib/python3.7/dist-packages/statsmodels/tsa/base/tsa_model.py:165: ValueWarning: No frequency information was provided, so inferred frequency D will be used.\n",
            "  % freq, ValueWarning)\n",
            "/usr/local/lib/python3.7/dist-packages/statsmodels/tsa/base/tsa_model.py:165: ValueWarning: No frequency information was provided, so inferred frequency D will be used.\n",
            "  % freq, ValueWarning)\n",
            "/usr/local/lib/python3.7/dist-packages/statsmodels/base/model.py:512: ConvergenceWarning: Maximum Likelihood optimization failed to converge. Check mle_retvals\n",
            "  \"Check mle_retvals\", ConvergenceWarning)\n",
            "/usr/local/lib/python3.7/dist-packages/statsmodels/tsa/base/tsa_model.py:165: ValueWarning: No frequency information was provided, so inferred frequency D will be used.\n",
            "  % freq, ValueWarning)\n",
            "/usr/local/lib/python3.7/dist-packages/statsmodels/base/model.py:512: ConvergenceWarning: Maximum Likelihood optimization failed to converge. Check mle_retvals\n",
            "  \"Check mle_retvals\", ConvergenceWarning)\n",
            "/usr/local/lib/python3.7/dist-packages/statsmodels/tsa/base/tsa_model.py:165: ValueWarning: No frequency information was provided, so inferred frequency D will be used.\n",
            "  % freq, ValueWarning)\n",
            "/usr/local/lib/python3.7/dist-packages/statsmodels/tsa/base/tsa_model.py:165: ValueWarning: No frequency information was provided, so inferred frequency D will be used.\n",
            "  % freq, ValueWarning)\n",
            "/usr/local/lib/python3.7/dist-packages/statsmodels/tsa/base/tsa_model.py:165: ValueWarning: No frequency information was provided, so inferred frequency D will be used.\n",
            "  % freq, ValueWarning)\n"
          ],
          "name": "stderr"
        }
      ]
    },
    {
      "cell_type": "code",
      "metadata": {
        "colab": {
          "base_uri": "https://localhost:8080/"
        },
        "id": "IGy6lmhJuLsW",
        "outputId": "ad44df9c-cf09-41cd-8b81-7411f948bbb1"
      },
      "source": [
        "error = [e for p, q, e in res]\n",
        "best = [res[i] for i, e in enumerate(error) if e == min(error)]\n",
        "\n",
        "best"
      ],
      "execution_count": null,
      "outputs": [
        {
          "output_type": "execute_result",
          "data": {
            "text/plain": [
              "[(2, 3, 0.10383019947139394)]"
            ]
          },
          "metadata": {
            "tags": []
          },
          "execution_count": 162
        }
      ]
    },
    {
      "cell_type": "code",
      "metadata": {
        "id": "HjOm4-w3uayK"
      },
      "source": [
        ""
      ],
      "execution_count": null,
      "outputs": []
    }
  ]
}