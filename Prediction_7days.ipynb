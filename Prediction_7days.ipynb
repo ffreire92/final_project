{
 "cells": [
  {
   "cell_type": "markdown",
   "metadata": {},
   "source": [
    "# Imports"
   ]
  },
  {
   "cell_type": "code",
   "execution_count": 1,
   "metadata": {},
   "outputs": [
    {
     "name": "stdout",
     "output_type": "stream",
     "text": [
      "The history saving thread hit an unexpected error (DatabaseError('database disk image is malformed')).History will not be written to the database.\n"
     ]
    }
   ],
   "source": [
    "import pandas as pd\n",
    "import numpy as np"
   ]
  },
  {
   "cell_type": "code",
   "execution_count": 2,
   "metadata": {},
   "outputs": [],
   "source": [
    "from statsmodels.tsa.arima_model import ARMA"
   ]
  },
  {
   "cell_type": "code",
   "execution_count": 3,
   "metadata": {},
   "outputs": [],
   "source": [
    "from sklearn.metrics import mean_squared_error as mse"
   ]
  },
  {
   "cell_type": "code",
   "execution_count": 4,
   "metadata": {},
   "outputs": [],
   "source": [
    "import warnings\n",
    "warnings.simplefilter('ignore')"
   ]
  },
  {
   "cell_type": "code",
   "execution_count": 5,
   "metadata": {},
   "outputs": [],
   "source": [
    "import seaborn as sns\n",
    "import matplotlib.pyplot as plt\n",
    "%matplotlib inline\n",
    "import pylab as plt"
   ]
  },
  {
   "cell_type": "markdown",
   "metadata": {},
   "source": [
    "## Clean data"
   ]
  },
  {
   "cell_type": "code",
   "execution_count": 6,
   "metadata": {},
   "outputs": [],
   "source": [
    "def clean_data():\n",
    "    \n",
    "    global db1\n",
    "    \n",
    "    # Number of Infections greater than 1:\n",
    "    db1 = db1[(db1.num_infections > 0)].reset_index()\n",
    "    db1 = db1.drop(columns = ['index'], axis = 1)\n",
    "    \n",
    "    # Sort ascending order by date:\n",
    "    db1['date'] = pd.to_datetime(db1.date)\n",
    "    db1 = db1.sort_values(by=\"date\").reset_index()\n",
    "    db1 = db1.drop(columns = ['index'], axis = 1)\n",
    "   \n",
    "    # Data cleaning autonomous_region:\n",
    "    db1['autonomous_region'] = db1.autonomous_region.apply(lambda x: 'Comunidad Valenciana' if x == 'Valenciana, Comunidad' else x)\n",
    "    db1['autonomous_region'] = db1.autonomous_region.apply(lambda x: 'Comunidad de Madrid' if x == 'Madrid, Comunidad de' else x)\n",
    "    db1['autonomous_region'] = db1.autonomous_region.apply(lambda x: 'Región de de Murcia' if x == 'Murcia, Región de' else x)\n",
    "    db1['autonomous_region'] = db1.autonomous_region.apply(lambda x: 'Comunidad Foral de Navarra' if x == 'Navarra, Comunidad Foral de' else x)\n",
    "    db1['autonomous_region'] = db1.autonomous_region.apply(lambda x: 'Principado de Asturias' if x == 'Asturias, Principado de' else x)\n",
    "    \n",
    "    # Data cleaning province:\n",
    "    db1['province'] = db1.province.apply(lambda x: 'Alicante' if x == 'Alicante/Alacant' else x)\n",
    "    db1['province'] = db1.province.apply(lambda x: 'Castellón' if x == 'Castellón/Castelló' else x)\n",
    "    db1['province'] = db1.province.apply(lambda x: 'Araba' if x == 'Araba/Álava' else x)\n",
    "    db1['province'] = db1.province.apply(lambda x: 'Valencia' if x == 'Valencia/València' else x)\n",
    "    \n",
    "    # Data cleaning sex and age_interval:\n",
    "    db1 = db1[(db1.sex != 'NC') & (db1.age_interval != 'NC')]"
   ]
  },
  {
   "cell_type": "code",
   "execution_count": 7,
   "metadata": {},
   "outputs": [],
   "source": [
    "def cumulative(dataframe):\n",
    "    \n",
    "    cumu_num_infections = dataframe.num_infections.cumsum()\n",
    "    cumu_num_hosp = dataframe.num_hosp.cumsum()\n",
    "    cumu_num_uci = dataframe.num_uci.cumsum()\n",
    "    cumu_num_dead = dataframe.num_dead.cumsum()\n",
    "\n",
    "    cumulative = pd.DataFrame({'cumu_num_infections': cumu_num_infections, 'cumu_num_hosp': cumu_num_hosp, \n",
    "                               'cumu_num_uci': cumu_num_uci, 'cumu_num_dead': cumu_num_dead})\n",
    "    dataframe = pd.concat([dataframe, cumulative], axis = 1)\n",
    "    return dataframe"
   ]
  },
  {
   "cell_type": "code",
   "execution_count": 8,
   "metadata": {},
   "outputs": [],
   "source": [
    "def mov_7_ave(dataframe):\n",
    "    dataframe['ave_7_num_infections'] = dataframe.iloc[:,1].rolling(window=7).mean()\n",
    "    dataframe['ave_7_num_hosp'] = dataframe.iloc[:,2].rolling(window=7).mean()\n",
    "    dataframe['ave_7_num_uci'] = dataframe.iloc[:,3].rolling(window=7).mean()\n",
    "    dataframe['ave_7_num_dead'] = dataframe.iloc[:,4].rolling(window=7).mean()\n",
    "    \n",
    "    return dataframe"
   ]
  },
  {
   "cell_type": "code",
   "execution_count": 9,
   "metadata": {},
   "outputs": [],
   "source": [
    "def evolution(dataframe):\n",
    "    \n",
    "    \n",
    "    bydate = dataframe.groupby('date').sum().reset_index()\n",
    "    bydate = cumulative(bydate)\n",
    "    bydate = mov_7_ave(bydate)\n",
    "    \n",
    "    return bydate"
   ]
  },
  {
   "cell_type": "code",
   "execution_count": 10,
   "metadata": {},
   "outputs": [],
   "source": [
    "def organise(column):\n",
    "    \n",
    "    global db1\n",
    "\n",
    "    name = db1.groupby(column).sum()\n",
    "    freq_rel(name)\n",
    "    \n",
    "    return name"
   ]
  },
  {
   "cell_type": "code",
   "execution_count": 11,
   "metadata": {},
   "outputs": [],
   "source": [
    "def freq_rel(dataframe):\n",
    "    \n",
    "    dataframe['Number of infection (%)'] = [round(i/ dataframe['num_infections'].sum(),3)*100 for i in dataframe['num_infections']]\n",
    "    dataframe['Number of hospitalisation (%)'] = [round(i/ dataframe['num_hosp'].sum(),3)*100 for i in dataframe['num_hosp']]\n",
    "    dataframe['Number of Intensive Care Unit (%)'] = [round(i/ dataframe['num_uci'].sum(),3)*100 for i in dataframe['num_uci']]\n",
    "    dataframe['Number of deaths (%)'] = [round(i/ dataframe['num_dead'].sum(),3)*100 for i in dataframe['num_dead']]\n",
    "    \n",
    "    return dataframe"
   ]
  },
  {
   "cell_type": "code",
   "execution_count": 15,
   "metadata": {},
   "outputs": [],
   "source": [
    "db1 = pd.read_csv('covid-19-sample.csv')"
   ]
  },
  {
   "cell_type": "code",
   "execution_count": 17,
   "metadata": {},
   "outputs": [],
   "source": [
    "clean_data()"
   ]
  },
  {
   "cell_type": "code",
   "execution_count": 18,
   "metadata": {},
   "outputs": [
    {
     "data": {
      "text/html": [
       "<div>\n",
       "<style scoped>\n",
       "    .dataframe tbody tr th:only-of-type {\n",
       "        vertical-align: middle;\n",
       "    }\n",
       "\n",
       "    .dataframe tbody tr th {\n",
       "        vertical-align: top;\n",
       "    }\n",
       "\n",
       "    .dataframe thead th {\n",
       "        text-align: right;\n",
       "    }\n",
       "</style>\n",
       "<table border=\"1\" class=\"dataframe\">\n",
       "  <thead>\n",
       "    <tr style=\"text-align: right;\">\n",
       "      <th></th>\n",
       "      <th>date</th>\n",
       "      <th>autonomous_region</th>\n",
       "      <th>province</th>\n",
       "      <th>sex</th>\n",
       "      <th>age_interval</th>\n",
       "      <th>num_infections</th>\n",
       "      <th>num_hosp</th>\n",
       "      <th>num_uci</th>\n",
       "      <th>num_dead</th>\n",
       "    </tr>\n",
       "  </thead>\n",
       "  <tbody>\n",
       "    <tr>\n",
       "      <th>0</th>\n",
       "      <td>2020-01-18</td>\n",
       "      <td>Comunidad de Madrid</td>\n",
       "      <td>Madrid</td>\n",
       "      <td>M</td>\n",
       "      <td>40-49</td>\n",
       "      <td>1</td>\n",
       "      <td>1</td>\n",
       "      <td>0</td>\n",
       "      <td>0</td>\n",
       "    </tr>\n",
       "    <tr>\n",
       "      <th>1</th>\n",
       "      <td>2020-01-31</td>\n",
       "      <td>Canarias</td>\n",
       "      <td>Santa Cruz de Tenerife</td>\n",
       "      <td>H</td>\n",
       "      <td>20-29</td>\n",
       "      <td>1</td>\n",
       "      <td>0</td>\n",
       "      <td>0</td>\n",
       "      <td>0</td>\n",
       "    </tr>\n",
       "    <tr>\n",
       "      <th>2</th>\n",
       "      <td>2020-02-09</td>\n",
       "      <td>Illes Balears</td>\n",
       "      <td>Illes Balears</td>\n",
       "      <td>H</td>\n",
       "      <td>40-49</td>\n",
       "      <td>1</td>\n",
       "      <td>1</td>\n",
       "      <td>0</td>\n",
       "      <td>0</td>\n",
       "    </tr>\n",
       "    <tr>\n",
       "      <th>3</th>\n",
       "      <td>2020-02-12</td>\n",
       "      <td>Catalunya</td>\n",
       "      <td>Barcelona</td>\n",
       "      <td>M</td>\n",
       "      <td>30-39</td>\n",
       "      <td>1</td>\n",
       "      <td>0</td>\n",
       "      <td>0</td>\n",
       "      <td>0</td>\n",
       "    </tr>\n",
       "    <tr>\n",
       "      <th>4</th>\n",
       "      <td>2020-02-12</td>\n",
       "      <td>Comunidad de Madrid</td>\n",
       "      <td>Madrid</td>\n",
       "      <td>M</td>\n",
       "      <td>50-59</td>\n",
       "      <td>1</td>\n",
       "      <td>0</td>\n",
       "      <td>0</td>\n",
       "      <td>0</td>\n",
       "    </tr>\n",
       "    <tr>\n",
       "      <th>...</th>\n",
       "      <td>...</td>\n",
       "      <td>...</td>\n",
       "      <td>...</td>\n",
       "      <td>...</td>\n",
       "      <td>...</td>\n",
       "      <td>...</td>\n",
       "      <td>...</td>\n",
       "      <td>...</td>\n",
       "      <td>...</td>\n",
       "    </tr>\n",
       "    <tr>\n",
       "      <th>300931</th>\n",
       "      <td>2021-06-10</td>\n",
       "      <td>Andalucía</td>\n",
       "      <td>Huelva</td>\n",
       "      <td>M</td>\n",
       "      <td>80+</td>\n",
       "      <td>1</td>\n",
       "      <td>0</td>\n",
       "      <td>0</td>\n",
       "      <td>0</td>\n",
       "    </tr>\n",
       "    <tr>\n",
       "      <th>300932</th>\n",
       "      <td>2021-06-10</td>\n",
       "      <td>Andalucía</td>\n",
       "      <td>Huelva</td>\n",
       "      <td>M</td>\n",
       "      <td>60-69</td>\n",
       "      <td>2</td>\n",
       "      <td>0</td>\n",
       "      <td>0</td>\n",
       "      <td>0</td>\n",
       "    </tr>\n",
       "    <tr>\n",
       "      <th>300933</th>\n",
       "      <td>2021-06-10</td>\n",
       "      <td>Andalucía</td>\n",
       "      <td>Huelva</td>\n",
       "      <td>M</td>\n",
       "      <td>50-59</td>\n",
       "      <td>5</td>\n",
       "      <td>0</td>\n",
       "      <td>0</td>\n",
       "      <td>0</td>\n",
       "    </tr>\n",
       "    <tr>\n",
       "      <th>300934</th>\n",
       "      <td>2021-06-10</td>\n",
       "      <td>Andalucía</td>\n",
       "      <td>Córdoba</td>\n",
       "      <td>H</td>\n",
       "      <td>80+</td>\n",
       "      <td>2</td>\n",
       "      <td>0</td>\n",
       "      <td>0</td>\n",
       "      <td>0</td>\n",
       "    </tr>\n",
       "    <tr>\n",
       "      <th>300935</th>\n",
       "      <td>2021-06-10</td>\n",
       "      <td>Castilla y León</td>\n",
       "      <td>Zamora</td>\n",
       "      <td>M</td>\n",
       "      <td>80+</td>\n",
       "      <td>1</td>\n",
       "      <td>0</td>\n",
       "      <td>0</td>\n",
       "      <td>0</td>\n",
       "    </tr>\n",
       "  </tbody>\n",
       "</table>\n",
       "<p>297239 rows × 9 columns</p>\n",
       "</div>"
      ],
      "text/plain": [
       "             date    autonomous_region                province sex  \\\n",
       "0      2020-01-18  Comunidad de Madrid                  Madrid   M   \n",
       "1      2020-01-31             Canarias  Santa Cruz de Tenerife   H   \n",
       "2      2020-02-09        Illes Balears           Illes Balears   H   \n",
       "3      2020-02-12            Catalunya               Barcelona   M   \n",
       "4      2020-02-12  Comunidad de Madrid                  Madrid   M   \n",
       "...           ...                  ...                     ...  ..   \n",
       "300931 2021-06-10            Andalucía                  Huelva   M   \n",
       "300932 2021-06-10            Andalucía                  Huelva   M   \n",
       "300933 2021-06-10            Andalucía                  Huelva   M   \n",
       "300934 2021-06-10            Andalucía                 Córdoba   H   \n",
       "300935 2021-06-10      Castilla y León                  Zamora   M   \n",
       "\n",
       "       age_interval  num_infections  num_hosp  num_uci  num_dead  \n",
       "0             40-49               1         1        0         0  \n",
       "1             20-29               1         0        0         0  \n",
       "2             40-49               1         1        0         0  \n",
       "3             30-39               1         0        0         0  \n",
       "4             50-59               1         0        0         0  \n",
       "...             ...             ...       ...      ...       ...  \n",
       "300931          80+               1         0        0         0  \n",
       "300932        60-69               2         0        0         0  \n",
       "300933        50-59               5         0        0         0  \n",
       "300934          80+               2         0        0         0  \n",
       "300935          80+               1         0        0         0  \n",
       "\n",
       "[297239 rows x 9 columns]"
      ]
     },
     "execution_count": 18,
     "metadata": {},
     "output_type": "execute_result"
    }
   ],
   "source": [
    "db1"
   ]
  },
  {
   "cell_type": "code",
   "execution_count": 64,
   "metadata": {},
   "outputs": [],
   "source": [
    "bydate=organise('date')"
   ]
  },
  {
   "cell_type": "code",
   "execution_count": 65,
   "metadata": {},
   "outputs": [],
   "source": [
    "bydate['ave_7_num_infections'] = bydate.iloc[:,0].rolling(window=7).mean()"
   ]
  },
  {
   "cell_type": "code",
   "execution_count": 66,
   "metadata": {},
   "outputs": [],
   "source": [
    "infections = bydate.drop(columns=['num_infections', 'num_hosp', 'num_uci', 'num_dead', 'Number of infection (%)',\n",
    "                              'Number of hospitalisation (%)', 'Number of Intensive Care Unit (%)', 'Number of deaths (%)'], axis = 1)"
   ]
  },
  {
   "cell_type": "markdown",
   "metadata": {},
   "source": [
    "# Infections"
   ]
  },
  {
   "cell_type": "code",
   "execution_count": 67,
   "metadata": {},
   "outputs": [],
   "source": [
    "infections = infections[6:]"
   ]
  },
  {
   "cell_type": "code",
   "execution_count": 70,
   "metadata": {},
   "outputs": [],
   "source": [
    "infections = infections.append(pd.Series(name='2021-06-11 00:00:00'))\n",
    "infections = infections.append(pd.Series(name='2021-06-12 00:00:00'))\n",
    "infections = infections.append(pd.Series(name='2021-06-13 00:00:00'))\n",
    "infections = infections.append(pd.Series(name='2021-06-14 00:00:00'))\n",
    "infections = infections.append(pd.Series(name='2021-06-15 00:00:00'))\n",
    "infections = infections.append(pd.Series(name='2021-06-16 00:00:00'))\n",
    "infections = infections.append(pd.Series(name='2021-06-17 00:00:00'))"
   ]
  },
  {
   "cell_type": "code",
   "execution_count": 72,
   "metadata": {},
   "outputs": [
    {
     "data": {
      "text/html": [
       "<div>\n",
       "<style scoped>\n",
       "    .dataframe tbody tr th:only-of-type {\n",
       "        vertical-align: middle;\n",
       "    }\n",
       "\n",
       "    .dataframe tbody tr th {\n",
       "        vertical-align: top;\n",
       "    }\n",
       "\n",
       "    .dataframe thead th {\n",
       "        text-align: right;\n",
       "    }\n",
       "</style>\n",
       "<table border=\"1\" class=\"dataframe\">\n",
       "  <thead>\n",
       "    <tr style=\"text-align: right;\">\n",
       "      <th></th>\n",
       "      <th>ave_7_num_infections</th>\n",
       "    </tr>\n",
       "    <tr>\n",
       "      <th>date</th>\n",
       "      <th></th>\n",
       "    </tr>\n",
       "  </thead>\n",
       "  <tbody>\n",
       "    <tr>\n",
       "      <th>2021-06-09 00:00:00</th>\n",
       "      <td>3582.571429</td>\n",
       "    </tr>\n",
       "    <tr>\n",
       "      <th>2021-06-10 00:00:00</th>\n",
       "      <td>3493.571429</td>\n",
       "    </tr>\n",
       "    <tr>\n",
       "      <th>2021-06-11 00:00:00</th>\n",
       "      <td>NaN</td>\n",
       "    </tr>\n",
       "    <tr>\n",
       "      <th>2021-06-11 00:00:00</th>\n",
       "      <td>NaN</td>\n",
       "    </tr>\n",
       "    <tr>\n",
       "      <th>2021-06-12 00:00:00</th>\n",
       "      <td>NaN</td>\n",
       "    </tr>\n",
       "    <tr>\n",
       "      <th>2021-06-13 00:00:00</th>\n",
       "      <td>NaN</td>\n",
       "    </tr>\n",
       "    <tr>\n",
       "      <th>2021-06-14 00:00:00</th>\n",
       "      <td>NaN</td>\n",
       "    </tr>\n",
       "    <tr>\n",
       "      <th>2021-06-15 00:00:00</th>\n",
       "      <td>NaN</td>\n",
       "    </tr>\n",
       "    <tr>\n",
       "      <th>2021-06-16 00:00:00</th>\n",
       "      <td>NaN</td>\n",
       "    </tr>\n",
       "    <tr>\n",
       "      <th>2021-06-17 00:00:00</th>\n",
       "      <td>NaN</td>\n",
       "    </tr>\n",
       "  </tbody>\n",
       "</table>\n",
       "</div>"
      ],
      "text/plain": [
       "                     ave_7_num_infections\n",
       "date                                     \n",
       "2021-06-09 00:00:00           3582.571429\n",
       "2021-06-10 00:00:00           3493.571429\n",
       "2021-06-11 00:00:00                   NaN\n",
       "2021-06-11 00:00:00                   NaN\n",
       "2021-06-12 00:00:00                   NaN\n",
       "2021-06-13 00:00:00                   NaN\n",
       "2021-06-14 00:00:00                   NaN\n",
       "2021-06-15 00:00:00                   NaN\n",
       "2021-06-16 00:00:00                   NaN\n",
       "2021-06-17 00:00:00                   NaN"
      ]
     },
     "execution_count": 72,
     "metadata": {},
     "output_type": "execute_result"
    }
   ],
   "source": []
  },
  {
   "cell_type": "code",
   "execution_count": 30,
   "metadata": {},
   "outputs": [],
   "source": [
    "train, test = infections[:-7], infections[-7:]"
   ]
  },
  {
   "cell_type": "code",
   "execution_count": 34,
   "metadata": {},
   "outputs": [
    {
     "name": "stdout",
     "output_type": "stream",
     "text": [
      "rsme: 82.1678386393958 daily infections\n"
     ]
    }
   ],
   "source": [
    "model=ARMA(train, order = (19, 7)).fit(disp=False)\n",
    "print('rsme:', mse(model.predict(len(train), len(infections)-1), test)**0.5, 'daily infections')"
   ]
  },
  {
   "cell_type": "code",
   "execution_count": 78,
   "metadata": {},
   "outputs": [],
   "source": [
    "train, test = infections[:-8], infections[-8:]"
   ]
  },
  {
   "cell_type": "code",
   "execution_count": 79,
   "metadata": {},
   "outputs": [
    {
     "data": {
      "text/html": [
       "<div>\n",
       "<style scoped>\n",
       "    .dataframe tbody tr th:only-of-type {\n",
       "        vertical-align: middle;\n",
       "    }\n",
       "\n",
       "    .dataframe tbody tr th {\n",
       "        vertical-align: top;\n",
       "    }\n",
       "\n",
       "    .dataframe thead th {\n",
       "        text-align: right;\n",
       "    }\n",
       "</style>\n",
       "<table border=\"1\" class=\"dataframe\">\n",
       "  <thead>\n",
       "    <tr style=\"text-align: right;\">\n",
       "      <th></th>\n",
       "      <th>ave_7_num_infections</th>\n",
       "    </tr>\n",
       "    <tr>\n",
       "      <th>date</th>\n",
       "      <th></th>\n",
       "    </tr>\n",
       "  </thead>\n",
       "  <tbody>\n",
       "    <tr>\n",
       "      <th>2020-02-23</th>\n",
       "      <td>1.428571</td>\n",
       "    </tr>\n",
       "    <tr>\n",
       "      <th>2020-02-24</th>\n",
       "      <td>1.571429</td>\n",
       "    </tr>\n",
       "    <tr>\n",
       "      <th>2020-02-25</th>\n",
       "      <td>1.571429</td>\n",
       "    </tr>\n",
       "    <tr>\n",
       "      <th>2020-02-26</th>\n",
       "      <td>2.428571</td>\n",
       "    </tr>\n",
       "    <tr>\n",
       "      <th>2020-02-27</th>\n",
       "      <td>5.285714</td>\n",
       "    </tr>\n",
       "    <tr>\n",
       "      <th>...</th>\n",
       "      <td>...</td>\n",
       "    </tr>\n",
       "    <tr>\n",
       "      <th>2021-06-06</th>\n",
       "      <td>4004.000000</td>\n",
       "    </tr>\n",
       "    <tr>\n",
       "      <th>2021-06-07</th>\n",
       "      <td>3899.857143</td>\n",
       "    </tr>\n",
       "    <tr>\n",
       "      <th>2021-06-08</th>\n",
       "      <td>3749.428571</td>\n",
       "    </tr>\n",
       "    <tr>\n",
       "      <th>2021-06-09</th>\n",
       "      <td>3582.571429</td>\n",
       "    </tr>\n",
       "    <tr>\n",
       "      <th>2021-06-10</th>\n",
       "      <td>3493.571429</td>\n",
       "    </tr>\n",
       "  </tbody>\n",
       "</table>\n",
       "<p>474 rows × 1 columns</p>\n",
       "</div>"
      ],
      "text/plain": [
       "            ave_7_num_infections\n",
       "date                            \n",
       "2020-02-23              1.428571\n",
       "2020-02-24              1.571429\n",
       "2020-02-25              1.571429\n",
       "2020-02-26              2.428571\n",
       "2020-02-27              5.285714\n",
       "...                          ...\n",
       "2021-06-06           4004.000000\n",
       "2021-06-07           3899.857143\n",
       "2021-06-08           3749.428571\n",
       "2021-06-09           3582.571429\n",
       "2021-06-10           3493.571429\n",
       "\n",
       "[474 rows x 1 columns]"
      ]
     },
     "execution_count": 79,
     "metadata": {},
     "output_type": "execute_result"
    }
   ],
   "source": [
    "train"
   ]
  },
  {
   "cell_type": "code",
   "execution_count": 80,
   "metadata": {},
   "outputs": [],
   "source": [
    "model = ARMA(train, order = (19, 7)).fit(disp=False)\n",
    "pred = model.predict(len(train), len(infections)-1)"
   ]
  },
  {
   "cell_type": "code",
   "execution_count": 82,
   "metadata": {},
   "outputs": [
    {
     "data": {
      "text/plain": [
       "2021-06-11    3430.818823\n",
       "2021-06-12    3353.771666\n",
       "2021-06-13    3191.312601\n",
       "2021-06-14    3046.618273\n",
       "2021-06-15    2952.195890\n",
       "2021-06-16    2946.160710\n",
       "2021-06-17    3008.848439\n",
       "2021-06-18    3093.853175\n",
       "Freq: D, dtype: float64"
      ]
     },
     "execution_count": 82,
     "metadata": {},
     "output_type": "execute_result"
    }
   ],
   "source": [
    "pred"
   ]
  },
  {
   "cell_type": "code",
   "execution_count": 83,
   "metadata": {},
   "outputs": [],
   "source": [
    "prediction = pd.DataFrame(pred, columns = ['pred_num_infections'])"
   ]
  },
  {
   "cell_type": "code",
   "execution_count": 84,
   "metadata": {},
   "outputs": [
    {
     "data": {
      "text/html": [
       "<div>\n",
       "<style scoped>\n",
       "    .dataframe tbody tr th:only-of-type {\n",
       "        vertical-align: middle;\n",
       "    }\n",
       "\n",
       "    .dataframe tbody tr th {\n",
       "        vertical-align: top;\n",
       "    }\n",
       "\n",
       "    .dataframe thead th {\n",
       "        text-align: right;\n",
       "    }\n",
       "</style>\n",
       "<table border=\"1\" class=\"dataframe\">\n",
       "  <thead>\n",
       "    <tr style=\"text-align: right;\">\n",
       "      <th></th>\n",
       "      <th>pred_num_infections</th>\n",
       "    </tr>\n",
       "  </thead>\n",
       "  <tbody>\n",
       "    <tr>\n",
       "      <th>2021-06-11</th>\n",
       "      <td>3430.818823</td>\n",
       "    </tr>\n",
       "    <tr>\n",
       "      <th>2021-06-12</th>\n",
       "      <td>3353.771666</td>\n",
       "    </tr>\n",
       "    <tr>\n",
       "      <th>2021-06-13</th>\n",
       "      <td>3191.312601</td>\n",
       "    </tr>\n",
       "    <tr>\n",
       "      <th>2021-06-14</th>\n",
       "      <td>3046.618273</td>\n",
       "    </tr>\n",
       "    <tr>\n",
       "      <th>2021-06-15</th>\n",
       "      <td>2952.195890</td>\n",
       "    </tr>\n",
       "    <tr>\n",
       "      <th>2021-06-16</th>\n",
       "      <td>2946.160710</td>\n",
       "    </tr>\n",
       "    <tr>\n",
       "      <th>2021-06-17</th>\n",
       "      <td>3008.848439</td>\n",
       "    </tr>\n",
       "    <tr>\n",
       "      <th>2021-06-18</th>\n",
       "      <td>3093.853175</td>\n",
       "    </tr>\n",
       "  </tbody>\n",
       "</table>\n",
       "</div>"
      ],
      "text/plain": [
       "            pred_num_infections\n",
       "2021-06-11          3430.818823\n",
       "2021-06-12          3353.771666\n",
       "2021-06-13          3191.312601\n",
       "2021-06-14          3046.618273\n",
       "2021-06-15          2952.195890\n",
       "2021-06-16          2946.160710\n",
       "2021-06-17          3008.848439\n",
       "2021-06-18          3093.853175"
      ]
     },
     "execution_count": 84,
     "metadata": {},
     "output_type": "execute_result"
    }
   ],
   "source": [
    "prediction"
   ]
  },
  {
   "cell_type": "markdown",
   "metadata": {},
   "source": [
    "## Hospitalisations"
   ]
  },
  {
   "cell_type": "code",
   "execution_count": 110,
   "metadata": {},
   "outputs": [],
   "source": [
    "hosp = bydate.drop(columns=['num_infections', 'num_uci', 'num_dead', 'Number of infection (%)',\n",
    "                              'Number of hospitalisation (%)', 'Number of Intensive Care Unit (%)', 'Number of deaths (%)',\n",
    "                           'ave_7_num_infections'], axis = 1)"
   ]
  },
  {
   "cell_type": "code",
   "execution_count": 112,
   "metadata": {},
   "outputs": [],
   "source": [
    "hosp['ave_7_num_hosp'] = hosp.iloc[:,0].rolling(window=7).mean()"
   ]
  },
  {
   "cell_type": "code",
   "execution_count": 114,
   "metadata": {},
   "outputs": [],
   "source": [
    "hosp = hosp.drop(columns = ['num_hosp'], axis = 1)"
   ]
  },
  {
   "cell_type": "code",
   "execution_count": 116,
   "metadata": {},
   "outputs": [],
   "source": [
    "hosp = hosp[6:]"
   ]
  },
  {
   "cell_type": "code",
   "execution_count": 117,
   "metadata": {},
   "outputs": [],
   "source": [
    "train, test = hosp[:-7], hosp[-7:]"
   ]
  },
  {
   "cell_type": "code",
   "execution_count": 119,
   "metadata": {},
   "outputs": [
    {
     "name": "stdout",
     "output_type": "stream",
     "text": [
      "rsme: 20.279147528344826 daily infections\n"
     ]
    }
   ],
   "source": [
    "model=ARMA(train, order = (19, 11)).fit(disp=False)\n",
    "print('rsme:', mse(model.predict(len(train), len(hosp)-1), test)**0.5, 'daily infections')"
   ]
  },
  {
   "cell_type": "code",
   "execution_count": 120,
   "metadata": {},
   "outputs": [],
   "source": [
    "hosp = hosp.append(pd.Series(name='2021-06-11 00:00:00'))\n",
    "hosp = hosp.append(pd.Series(name='2021-06-12 00:00:00'))\n",
    "hosp = hosp.append(pd.Series(name='2021-06-13 00:00:00'))\n",
    "hosp = hosp.append(pd.Series(name='2021-06-14 00:00:00'))\n",
    "hosp = hosp.append(pd.Series(name='2021-06-15 00:00:00'))\n",
    "hosp = hosp.append(pd.Series(name='2021-06-16 00:00:00'))\n",
    "hosp = hosp.append(pd.Series(name='2021-06-17 00:00:00'))"
   ]
  },
  {
   "cell_type": "code",
   "execution_count": 127,
   "metadata": {},
   "outputs": [],
   "source": [
    "train = hosp[:-7]"
   ]
  },
  {
   "cell_type": "code",
   "execution_count": 129,
   "metadata": {},
   "outputs": [
    {
     "data": {
      "text/html": [
       "<div>\n",
       "<style scoped>\n",
       "    .dataframe tbody tr th:only-of-type {\n",
       "        vertical-align: middle;\n",
       "    }\n",
       "\n",
       "    .dataframe tbody tr th {\n",
       "        vertical-align: top;\n",
       "    }\n",
       "\n",
       "    .dataframe thead th {\n",
       "        text-align: right;\n",
       "    }\n",
       "</style>\n",
       "<table border=\"1\" class=\"dataframe\">\n",
       "  <thead>\n",
       "    <tr style=\"text-align: right;\">\n",
       "      <th></th>\n",
       "      <th>ave_7_num_hosp</th>\n",
       "    </tr>\n",
       "    <tr>\n",
       "      <th>date</th>\n",
       "      <th></th>\n",
       "    </tr>\n",
       "  </thead>\n",
       "  <tbody>\n",
       "    <tr>\n",
       "      <th>2020-02-23</th>\n",
       "      <td>0.285714</td>\n",
       "    </tr>\n",
       "    <tr>\n",
       "      <th>2020-02-24</th>\n",
       "      <td>0.285714</td>\n",
       "    </tr>\n",
       "    <tr>\n",
       "      <th>2020-02-25</th>\n",
       "      <td>0.428571</td>\n",
       "    </tr>\n",
       "    <tr>\n",
       "      <th>2020-02-26</th>\n",
       "      <td>1.000000</td>\n",
       "    </tr>\n",
       "    <tr>\n",
       "      <th>2020-02-27</th>\n",
       "      <td>2.285714</td>\n",
       "    </tr>\n",
       "    <tr>\n",
       "      <th>...</th>\n",
       "      <td>...</td>\n",
       "    </tr>\n",
       "    <tr>\n",
       "      <th>2021-06-06</th>\n",
       "      <td>195.142857</td>\n",
       "    </tr>\n",
       "    <tr>\n",
       "      <th>2021-06-07</th>\n",
       "      <td>189.142857</td>\n",
       "    </tr>\n",
       "    <tr>\n",
       "      <th>2021-06-08</th>\n",
       "      <td>182.714286</td>\n",
       "    </tr>\n",
       "    <tr>\n",
       "      <th>2021-06-09</th>\n",
       "      <td>171.714286</td>\n",
       "    </tr>\n",
       "    <tr>\n",
       "      <th>2021-06-10</th>\n",
       "      <td>164.571429</td>\n",
       "    </tr>\n",
       "  </tbody>\n",
       "</table>\n",
       "<p>474 rows × 1 columns</p>\n",
       "</div>"
      ],
      "text/plain": [
       "            ave_7_num_hosp\n",
       "date                      \n",
       "2020-02-23        0.285714\n",
       "2020-02-24        0.285714\n",
       "2020-02-25        0.428571\n",
       "2020-02-26        1.000000\n",
       "2020-02-27        2.285714\n",
       "...                    ...\n",
       "2021-06-06      195.142857\n",
       "2021-06-07      189.142857\n",
       "2021-06-08      182.714286\n",
       "2021-06-09      171.714286\n",
       "2021-06-10      164.571429\n",
       "\n",
       "[474 rows x 1 columns]"
      ]
     },
     "execution_count": 129,
     "metadata": {},
     "output_type": "execute_result"
    }
   ],
   "source": [
    "train"
   ]
  },
  {
   "cell_type": "code",
   "execution_count": 130,
   "metadata": {},
   "outputs": [],
   "source": [
    "model = ARMA(train, order = (19, 11)).fit(disp=False)\n",
    "pred = model.predict(len(train), len(hosp)-1)"
   ]
  },
  {
   "cell_type": "code",
   "execution_count": 131,
   "metadata": {},
   "outputs": [
    {
     "data": {
      "text/plain": [
       "2021-06-11    159.873646\n",
       "2021-06-12    157.179157\n",
       "2021-06-13    158.815545\n",
       "2021-06-14    162.838239\n",
       "2021-06-15    167.128339\n",
       "2021-06-16    179.841826\n",
       "2021-06-17    190.712059\n",
       "Freq: D, dtype: float64"
      ]
     },
     "execution_count": 131,
     "metadata": {},
     "output_type": "execute_result"
    }
   ],
   "source": [
    "pred"
   ]
  },
  {
   "cell_type": "code",
   "execution_count": 134,
   "metadata": {},
   "outputs": [],
   "source": [
    "prediction_hosp = pd.DataFrame(pred, columns = ['pred_num_hosp'])"
   ]
  },
  {
   "cell_type": "code",
   "execution_count": 135,
   "metadata": {},
   "outputs": [
    {
     "data": {
      "text/html": [
       "<div>\n",
       "<style scoped>\n",
       "    .dataframe tbody tr th:only-of-type {\n",
       "        vertical-align: middle;\n",
       "    }\n",
       "\n",
       "    .dataframe tbody tr th {\n",
       "        vertical-align: top;\n",
       "    }\n",
       "\n",
       "    .dataframe thead th {\n",
       "        text-align: right;\n",
       "    }\n",
       "</style>\n",
       "<table border=\"1\" class=\"dataframe\">\n",
       "  <thead>\n",
       "    <tr style=\"text-align: right;\">\n",
       "      <th></th>\n",
       "      <th>pred_num_hosp</th>\n",
       "    </tr>\n",
       "  </thead>\n",
       "  <tbody>\n",
       "    <tr>\n",
       "      <th>2021-06-11</th>\n",
       "      <td>159.873646</td>\n",
       "    </tr>\n",
       "    <tr>\n",
       "      <th>2021-06-12</th>\n",
       "      <td>157.179157</td>\n",
       "    </tr>\n",
       "    <tr>\n",
       "      <th>2021-06-13</th>\n",
       "      <td>158.815545</td>\n",
       "    </tr>\n",
       "    <tr>\n",
       "      <th>2021-06-14</th>\n",
       "      <td>162.838239</td>\n",
       "    </tr>\n",
       "    <tr>\n",
       "      <th>2021-06-15</th>\n",
       "      <td>167.128339</td>\n",
       "    </tr>\n",
       "    <tr>\n",
       "      <th>2021-06-16</th>\n",
       "      <td>179.841826</td>\n",
       "    </tr>\n",
       "    <tr>\n",
       "      <th>2021-06-17</th>\n",
       "      <td>190.712059</td>\n",
       "    </tr>\n",
       "  </tbody>\n",
       "</table>\n",
       "</div>"
      ],
      "text/plain": [
       "            pred_num_hosp\n",
       "2021-06-11     159.873646\n",
       "2021-06-12     157.179157\n",
       "2021-06-13     158.815545\n",
       "2021-06-14     162.838239\n",
       "2021-06-15     167.128339\n",
       "2021-06-16     179.841826\n",
       "2021-06-17     190.712059"
      ]
     },
     "execution_count": 135,
     "metadata": {},
     "output_type": "execute_result"
    }
   ],
   "source": [
    "prediction_hosp"
   ]
  },
  {
   "cell_type": "code",
   "execution_count": 136,
   "metadata": {},
   "outputs": [],
   "source": [
    "predictions = pd.concat([prediction, prediction_hosp], axis=1)"
   ]
  },
  {
   "cell_type": "code",
   "execution_count": 137,
   "metadata": {},
   "outputs": [
    {
     "data": {
      "text/html": [
       "<div>\n",
       "<style scoped>\n",
       "    .dataframe tbody tr th:only-of-type {\n",
       "        vertical-align: middle;\n",
       "    }\n",
       "\n",
       "    .dataframe tbody tr th {\n",
       "        vertical-align: top;\n",
       "    }\n",
       "\n",
       "    .dataframe thead th {\n",
       "        text-align: right;\n",
       "    }\n",
       "</style>\n",
       "<table border=\"1\" class=\"dataframe\">\n",
       "  <thead>\n",
       "    <tr style=\"text-align: right;\">\n",
       "      <th></th>\n",
       "      <th>pred_num_infections</th>\n",
       "      <th>pred_num_hosp</th>\n",
       "    </tr>\n",
       "  </thead>\n",
       "  <tbody>\n",
       "    <tr>\n",
       "      <th>2021-06-11</th>\n",
       "      <td>3430.818823</td>\n",
       "      <td>159.873646</td>\n",
       "    </tr>\n",
       "    <tr>\n",
       "      <th>2021-06-12</th>\n",
       "      <td>3353.771666</td>\n",
       "      <td>157.179157</td>\n",
       "    </tr>\n",
       "    <tr>\n",
       "      <th>2021-06-13</th>\n",
       "      <td>3191.312601</td>\n",
       "      <td>158.815545</td>\n",
       "    </tr>\n",
       "    <tr>\n",
       "      <th>2021-06-14</th>\n",
       "      <td>3046.618273</td>\n",
       "      <td>162.838239</td>\n",
       "    </tr>\n",
       "    <tr>\n",
       "      <th>2021-06-15</th>\n",
       "      <td>2952.195890</td>\n",
       "      <td>167.128339</td>\n",
       "    </tr>\n",
       "    <tr>\n",
       "      <th>2021-06-16</th>\n",
       "      <td>2946.160710</td>\n",
       "      <td>179.841826</td>\n",
       "    </tr>\n",
       "    <tr>\n",
       "      <th>2021-06-17</th>\n",
       "      <td>3008.848439</td>\n",
       "      <td>190.712059</td>\n",
       "    </tr>\n",
       "    <tr>\n",
       "      <th>2021-06-18</th>\n",
       "      <td>3093.853175</td>\n",
       "      <td>NaN</td>\n",
       "    </tr>\n",
       "  </tbody>\n",
       "</table>\n",
       "</div>"
      ],
      "text/plain": [
       "            pred_num_infections  pred_num_hosp\n",
       "2021-06-11          3430.818823     159.873646\n",
       "2021-06-12          3353.771666     157.179157\n",
       "2021-06-13          3191.312601     158.815545\n",
       "2021-06-14          3046.618273     162.838239\n",
       "2021-06-15          2952.195890     167.128339\n",
       "2021-06-16          2946.160710     179.841826\n",
       "2021-06-17          3008.848439     190.712059\n",
       "2021-06-18          3093.853175            NaN"
      ]
     },
     "execution_count": 137,
     "metadata": {},
     "output_type": "execute_result"
    }
   ],
   "source": [
    "predictions"
   ]
  },
  {
   "cell_type": "markdown",
   "metadata": {},
   "source": [
    "# UCI"
   ]
  },
  {
   "cell_type": "code",
   "execution_count": 138,
   "metadata": {},
   "outputs": [],
   "source": [
    "uci = bydate.drop(columns=['num_infections', 'num_hosp', 'num_dead', 'Number of infection (%)',\n",
    "                              'Number of hospitalisation (%)', 'Number of Intensive Care Unit (%)', 'Number of deaths (%)',\n",
    "                           'ave_7_num_infections'], axis = 1)"
   ]
  },
  {
   "cell_type": "code",
   "execution_count": 140,
   "metadata": {},
   "outputs": [],
   "source": [
    "uci['ave_7_num_uci'] = uci.iloc[:,0].rolling(window=7).mean()"
   ]
  },
  {
   "cell_type": "code",
   "execution_count": 145,
   "metadata": {},
   "outputs": [
    {
     "data": {
      "text/html": [
       "<div>\n",
       "<style scoped>\n",
       "    .dataframe tbody tr th:only-of-type {\n",
       "        vertical-align: middle;\n",
       "    }\n",
       "\n",
       "    .dataframe tbody tr th {\n",
       "        vertical-align: top;\n",
       "    }\n",
       "\n",
       "    .dataframe thead th {\n",
       "        text-align: right;\n",
       "    }\n",
       "</style>\n",
       "<table border=\"1\" class=\"dataframe\">\n",
       "  <thead>\n",
       "    <tr style=\"text-align: right;\">\n",
       "      <th></th>\n",
       "      <th>ave_7_num_hosp</th>\n",
       "    </tr>\n",
       "    <tr>\n",
       "      <th>date</th>\n",
       "      <th></th>\n",
       "    </tr>\n",
       "  </thead>\n",
       "  <tbody>\n",
       "    <tr>\n",
       "      <th>2020-01-18</th>\n",
       "      <td>NaN</td>\n",
       "    </tr>\n",
       "    <tr>\n",
       "      <th>2020-01-31</th>\n",
       "      <td>NaN</td>\n",
       "    </tr>\n",
       "    <tr>\n",
       "      <th>2020-02-09</th>\n",
       "      <td>NaN</td>\n",
       "    </tr>\n",
       "    <tr>\n",
       "      <th>2020-02-12</th>\n",
       "      <td>NaN</td>\n",
       "    </tr>\n",
       "    <tr>\n",
       "      <th>2020-02-21</th>\n",
       "      <td>NaN</td>\n",
       "    </tr>\n",
       "    <tr>\n",
       "      <th>...</th>\n",
       "      <td>...</td>\n",
       "    </tr>\n",
       "    <tr>\n",
       "      <th>2021-06-06</th>\n",
       "      <td>20.857143</td>\n",
       "    </tr>\n",
       "    <tr>\n",
       "      <th>2021-06-07</th>\n",
       "      <td>17.857143</td>\n",
       "    </tr>\n",
       "    <tr>\n",
       "      <th>2021-06-08</th>\n",
       "      <td>16.285714</td>\n",
       "    </tr>\n",
       "    <tr>\n",
       "      <th>2021-06-09</th>\n",
       "      <td>15.857143</td>\n",
       "    </tr>\n",
       "    <tr>\n",
       "      <th>2021-06-10</th>\n",
       "      <td>13.142857</td>\n",
       "    </tr>\n",
       "  </tbody>\n",
       "</table>\n",
       "<p>480 rows × 1 columns</p>\n",
       "</div>"
      ],
      "text/plain": [
       "            ave_7_num_hosp\n",
       "date                      \n",
       "2020-01-18             NaN\n",
       "2020-01-31             NaN\n",
       "2020-02-09             NaN\n",
       "2020-02-12             NaN\n",
       "2020-02-21             NaN\n",
       "...                    ...\n",
       "2021-06-06       20.857143\n",
       "2021-06-07       17.857143\n",
       "2021-06-08       16.285714\n",
       "2021-06-09       15.857143\n",
       "2021-06-10       13.142857\n",
       "\n",
       "[480 rows x 1 columns]"
      ]
     },
     "execution_count": 145,
     "metadata": {},
     "output_type": "execute_result"
    }
   ],
   "source": [
    "uci"
   ]
  },
  {
   "cell_type": "code",
   "execution_count": 144,
   "metadata": {},
   "outputs": [],
   "source": [
    "uci = uci.drop(columns = ['num_uci'], axis = 1)"
   ]
  },
  {
   "cell_type": "code",
   "execution_count": 148,
   "metadata": {},
   "outputs": [],
   "source": [
    "uci = uci[6:]"
   ]
  },
  {
   "cell_type": "code",
   "execution_count": 149,
   "metadata": {},
   "outputs": [],
   "source": [
    "train, test = uci[:-7], uci[-7:]"
   ]
  },
  {
   "cell_type": "code",
   "execution_count": 150,
   "metadata": {},
   "outputs": [
    {
     "data": {
      "text/html": [
       "<div>\n",
       "<style scoped>\n",
       "    .dataframe tbody tr th:only-of-type {\n",
       "        vertical-align: middle;\n",
       "    }\n",
       "\n",
       "    .dataframe tbody tr th {\n",
       "        vertical-align: top;\n",
       "    }\n",
       "\n",
       "    .dataframe thead th {\n",
       "        text-align: right;\n",
       "    }\n",
       "</style>\n",
       "<table border=\"1\" class=\"dataframe\">\n",
       "  <thead>\n",
       "    <tr style=\"text-align: right;\">\n",
       "      <th></th>\n",
       "      <th>ave_7_num_hosp</th>\n",
       "    </tr>\n",
       "    <tr>\n",
       "      <th>date</th>\n",
       "      <th></th>\n",
       "    </tr>\n",
       "  </thead>\n",
       "  <tbody>\n",
       "    <tr>\n",
       "      <th>2020-02-23</th>\n",
       "      <td>0.000000</td>\n",
       "    </tr>\n",
       "    <tr>\n",
       "      <th>2020-02-24</th>\n",
       "      <td>0.142857</td>\n",
       "    </tr>\n",
       "    <tr>\n",
       "      <th>2020-02-25</th>\n",
       "      <td>0.142857</td>\n",
       "    </tr>\n",
       "    <tr>\n",
       "      <th>2020-02-26</th>\n",
       "      <td>0.285714</td>\n",
       "    </tr>\n",
       "    <tr>\n",
       "      <th>2020-02-27</th>\n",
       "      <td>0.428571</td>\n",
       "    </tr>\n",
       "    <tr>\n",
       "      <th>...</th>\n",
       "      <td>...</td>\n",
       "    </tr>\n",
       "    <tr>\n",
       "      <th>2021-05-30</th>\n",
       "      <td>27.000000</td>\n",
       "    </tr>\n",
       "    <tr>\n",
       "      <th>2021-05-31</th>\n",
       "      <td>27.000000</td>\n",
       "    </tr>\n",
       "    <tr>\n",
       "      <th>2021-06-01</th>\n",
       "      <td>25.857143</td>\n",
       "    </tr>\n",
       "    <tr>\n",
       "      <th>2021-06-02</th>\n",
       "      <td>23.000000</td>\n",
       "    </tr>\n",
       "    <tr>\n",
       "      <th>2021-06-03</th>\n",
       "      <td>22.571429</td>\n",
       "    </tr>\n",
       "  </tbody>\n",
       "</table>\n",
       "<p>467 rows × 1 columns</p>\n",
       "</div>"
      ],
      "text/plain": [
       "            ave_7_num_hosp\n",
       "date                      \n",
       "2020-02-23        0.000000\n",
       "2020-02-24        0.142857\n",
       "2020-02-25        0.142857\n",
       "2020-02-26        0.285714\n",
       "2020-02-27        0.428571\n",
       "...                    ...\n",
       "2021-05-30       27.000000\n",
       "2021-05-31       27.000000\n",
       "2021-06-01       25.857143\n",
       "2021-06-02       23.000000\n",
       "2021-06-03       22.571429\n",
       "\n",
       "[467 rows x 1 columns]"
      ]
     },
     "execution_count": 150,
     "metadata": {},
     "output_type": "execute_result"
    }
   ],
   "source": [
    "train"
   ]
  },
  {
   "cell_type": "code",
   "execution_count": 151,
   "metadata": {},
   "outputs": [
    {
     "name": "stdout",
     "output_type": "stream",
     "text": [
      "rsme: 6.402380144167087 daily uci\n"
     ]
    }
   ],
   "source": [
    "model=ARMA(train, order = (2, 6)).fit(disp=False)\n",
    "print('rsme:', mse(model.predict(len(train), len(uci)-1), test)**0.5, 'daily uci')"
   ]
  },
  {
   "cell_type": "code",
   "execution_count": 152,
   "metadata": {},
   "outputs": [],
   "source": [
    "uci = uci.append(pd.Series(name='2021-06-11 00:00:00'))\n",
    "uci = uci.append(pd.Series(name='2021-06-12 00:00:00'))\n",
    "uci = uci.append(pd.Series(name='2021-06-13 00:00:00'))\n",
    "uci = uci.append(pd.Series(name='2021-06-14 00:00:00'))\n",
    "uci = uci.append(pd.Series(name='2021-06-15 00:00:00'))\n",
    "uci = uci.append(pd.Series(name='2021-06-16 00:00:00'))\n",
    "uci = uci.append(pd.Series(name='2021-06-17 00:00:00'))"
   ]
  },
  {
   "cell_type": "code",
   "execution_count": 155,
   "metadata": {},
   "outputs": [],
   "source": [
    "train = uci[:-7]"
   ]
  },
  {
   "cell_type": "code",
   "execution_count": 157,
   "metadata": {},
   "outputs": [],
   "source": [
    "model = ARMA(train, order = (2, 6)).fit(disp=False)\n",
    "pred = model.predict(len(train), len(uci)-1)"
   ]
  },
  {
   "cell_type": "code",
   "execution_count": 159,
   "metadata": {},
   "outputs": [],
   "source": [
    "prediction_uci = pd.DataFrame(pred, columns = ['pred_num_uci'])"
   ]
  },
  {
   "cell_type": "code",
   "execution_count": 160,
   "metadata": {},
   "outputs": [],
   "source": [
    "predictions = pd.concat([predictions, prediction_uci], axis=1)"
   ]
  },
  {
   "cell_type": "code",
   "execution_count": 161,
   "metadata": {},
   "outputs": [
    {
     "data": {
      "text/html": [
       "<div>\n",
       "<style scoped>\n",
       "    .dataframe tbody tr th:only-of-type {\n",
       "        vertical-align: middle;\n",
       "    }\n",
       "\n",
       "    .dataframe tbody tr th {\n",
       "        vertical-align: top;\n",
       "    }\n",
       "\n",
       "    .dataframe thead th {\n",
       "        text-align: right;\n",
       "    }\n",
       "</style>\n",
       "<table border=\"1\" class=\"dataframe\">\n",
       "  <thead>\n",
       "    <tr style=\"text-align: right;\">\n",
       "      <th></th>\n",
       "      <th>pred_num_infections</th>\n",
       "      <th>pred_num_hosp</th>\n",
       "      <th>pred_num_uci</th>\n",
       "    </tr>\n",
       "  </thead>\n",
       "  <tbody>\n",
       "    <tr>\n",
       "      <th>2021-06-11</th>\n",
       "      <td>3430.818823</td>\n",
       "      <td>159.873646</td>\n",
       "      <td>11.825539</td>\n",
       "    </tr>\n",
       "    <tr>\n",
       "      <th>2021-06-12</th>\n",
       "      <td>3353.771666</td>\n",
       "      <td>157.179157</td>\n",
       "      <td>9.694381</td>\n",
       "    </tr>\n",
       "    <tr>\n",
       "      <th>2021-06-13</th>\n",
       "      <td>3191.312601</td>\n",
       "      <td>158.815545</td>\n",
       "      <td>8.542284</td>\n",
       "    </tr>\n",
       "    <tr>\n",
       "      <th>2021-06-14</th>\n",
       "      <td>3046.618273</td>\n",
       "      <td>162.838239</td>\n",
       "      <td>8.306022</td>\n",
       "    </tr>\n",
       "    <tr>\n",
       "      <th>2021-06-15</th>\n",
       "      <td>2952.195890</td>\n",
       "      <td>167.128339</td>\n",
       "      <td>8.000496</td>\n",
       "    </tr>\n",
       "    <tr>\n",
       "      <th>2021-06-16</th>\n",
       "      <td>2946.160710</td>\n",
       "      <td>179.841826</td>\n",
       "      <td>8.353581</td>\n",
       "    </tr>\n",
       "    <tr>\n",
       "      <th>2021-06-17</th>\n",
       "      <td>3008.848439</td>\n",
       "      <td>190.712059</td>\n",
       "      <td>9.258439</td>\n",
       "    </tr>\n",
       "    <tr>\n",
       "      <th>2021-06-18</th>\n",
       "      <td>3093.853175</td>\n",
       "      <td>NaN</td>\n",
       "      <td>NaN</td>\n",
       "    </tr>\n",
       "  </tbody>\n",
       "</table>\n",
       "</div>"
      ],
      "text/plain": [
       "            pred_num_infections  pred_num_hosp  pred_num_uci\n",
       "2021-06-11          3430.818823     159.873646     11.825539\n",
       "2021-06-12          3353.771666     157.179157      9.694381\n",
       "2021-06-13          3191.312601     158.815545      8.542284\n",
       "2021-06-14          3046.618273     162.838239      8.306022\n",
       "2021-06-15          2952.195890     167.128339      8.000496\n",
       "2021-06-16          2946.160710     179.841826      8.353581\n",
       "2021-06-17          3008.848439     190.712059      9.258439\n",
       "2021-06-18          3093.853175            NaN           NaN"
      ]
     },
     "execution_count": 161,
     "metadata": {},
     "output_type": "execute_result"
    }
   ],
   "source": [
    "predictions"
   ]
  },
  {
   "cell_type": "markdown",
   "metadata": {},
   "source": [
    "# Deaths"
   ]
  },
  {
   "cell_type": "code",
   "execution_count": 167,
   "metadata": {},
   "outputs": [],
   "source": [
    "deads = bydate.drop(columns=['num_infections', 'num_hosp', 'num_uci', 'Number of infection (%)',\n",
    "                              'Number of hospitalisation (%)', 'Number of Intensive Care Unit (%)', 'Number of deaths (%)',\n",
    "                           'ave_7_num_infections'], axis = 1)"
   ]
  },
  {
   "cell_type": "code",
   "execution_count": 168,
   "metadata": {},
   "outputs": [],
   "source": [
    "deads['ave_7_num_dead'] = deads.iloc[:,0].rolling(window=7).mean()"
   ]
  },
  {
   "cell_type": "code",
   "execution_count": 170,
   "metadata": {},
   "outputs": [],
   "source": [
    "deads = deads.drop(columns = ['num_dead'], axis = 1)"
   ]
  },
  {
   "cell_type": "code",
   "execution_count": 171,
   "metadata": {},
   "outputs": [],
   "source": [
    "deads = deads[6:]"
   ]
  },
  {
   "cell_type": "code",
   "execution_count": 173,
   "metadata": {},
   "outputs": [],
   "source": [
    "train, test = deads[:-7], deads[-7:]"
   ]
  },
  {
   "cell_type": "code",
   "execution_count": 175,
   "metadata": {},
   "outputs": [
    {
     "name": "stdout",
     "output_type": "stream",
     "text": [
      "rsme: 10.137919789778355 daily deaths\n"
     ]
    }
   ],
   "source": [
    "model=ARMA(train, order = (2, 7)).fit(disp=False)\n",
    "print('rsme:', mse(model.predict(len(train), len(deads)-1), test)**0.5, 'daily deaths')"
   ]
  },
  {
   "cell_type": "code",
   "execution_count": 176,
   "metadata": {},
   "outputs": [],
   "source": [
    "deads = deads.append(pd.Series(name='2021-06-11 00:00:00'))\n",
    "deads = deads.append(pd.Series(name='2021-06-12 00:00:00'))\n",
    "deads = deads.append(pd.Series(name='2021-06-13 00:00:00'))\n",
    "deads = deads.append(pd.Series(name='2021-06-14 00:00:00'))\n",
    "deads = deads.append(pd.Series(name='2021-06-15 00:00:00'))\n",
    "deads = deads.append(pd.Series(name='2021-06-16 00:00:00'))\n",
    "deads = deads.append(pd.Series(name='2021-06-17 00:00:00'))"
   ]
  },
  {
   "cell_type": "code",
   "execution_count": 178,
   "metadata": {},
   "outputs": [],
   "source": [
    "train = deads[:-7]"
   ]
  },
  {
   "cell_type": "code",
   "execution_count": 180,
   "metadata": {},
   "outputs": [],
   "source": [
    "model = ARMA(train, order = (2, 6)).fit(disp=False)\n",
    "pred = model.predict(len(train), len(deads)-1)"
   ]
  },
  {
   "cell_type": "code",
   "execution_count": 182,
   "metadata": {},
   "outputs": [],
   "source": [
    "prediction_dead = pd.DataFrame(pred, columns = ['pred_num_dead'])"
   ]
  },
  {
   "cell_type": "code",
   "execution_count": 183,
   "metadata": {},
   "outputs": [],
   "source": [
    "predictions = pd.concat([predictions, prediction_dead], axis=1)"
   ]
  },
  {
   "cell_type": "code",
   "execution_count": 190,
   "metadata": {},
   "outputs": [],
   "source": [
    "predictions = predictions[:7]"
   ]
  },
  {
   "cell_type": "code",
   "execution_count": 191,
   "metadata": {},
   "outputs": [
    {
     "data": {
      "text/html": [
       "<div>\n",
       "<style scoped>\n",
       "    .dataframe tbody tr th:only-of-type {\n",
       "        vertical-align: middle;\n",
       "    }\n",
       "\n",
       "    .dataframe tbody tr th {\n",
       "        vertical-align: top;\n",
       "    }\n",
       "\n",
       "    .dataframe thead th {\n",
       "        text-align: right;\n",
       "    }\n",
       "</style>\n",
       "<table border=\"1\" class=\"dataframe\">\n",
       "  <thead>\n",
       "    <tr style=\"text-align: right;\">\n",
       "      <th></th>\n",
       "      <th>pred_num_infections</th>\n",
       "      <th>pred_num_hosp</th>\n",
       "      <th>pred_num_uci</th>\n",
       "      <th>pred_num_dead</th>\n",
       "    </tr>\n",
       "  </thead>\n",
       "  <tbody>\n",
       "    <tr>\n",
       "      <th>2021-06-11</th>\n",
       "      <td>3430.818823</td>\n",
       "      <td>159.873646</td>\n",
       "      <td>11.825539</td>\n",
       "      <td>13.016844</td>\n",
       "    </tr>\n",
       "    <tr>\n",
       "      <th>2021-06-12</th>\n",
       "      <td>3353.771666</td>\n",
       "      <td>157.179157</td>\n",
       "      <td>9.694381</td>\n",
       "      <td>12.667172</td>\n",
       "    </tr>\n",
       "    <tr>\n",
       "      <th>2021-06-13</th>\n",
       "      <td>3191.312601</td>\n",
       "      <td>158.815545</td>\n",
       "      <td>8.542284</td>\n",
       "      <td>13.765634</td>\n",
       "    </tr>\n",
       "    <tr>\n",
       "      <th>2021-06-14</th>\n",
       "      <td>3046.618273</td>\n",
       "      <td>162.838239</td>\n",
       "      <td>8.306022</td>\n",
       "      <td>14.791417</td>\n",
       "    </tr>\n",
       "    <tr>\n",
       "      <th>2021-06-15</th>\n",
       "      <td>2952.195890</td>\n",
       "      <td>167.128339</td>\n",
       "      <td>8.000496</td>\n",
       "      <td>16.457542</td>\n",
       "    </tr>\n",
       "    <tr>\n",
       "      <th>2021-06-16</th>\n",
       "      <td>2946.160710</td>\n",
       "      <td>179.841826</td>\n",
       "      <td>8.353581</td>\n",
       "      <td>18.820792</td>\n",
       "    </tr>\n",
       "    <tr>\n",
       "      <th>2021-06-17</th>\n",
       "      <td>3008.848439</td>\n",
       "      <td>190.712059</td>\n",
       "      <td>9.258439</td>\n",
       "      <td>21.751402</td>\n",
       "    </tr>\n",
       "  </tbody>\n",
       "</table>\n",
       "</div>"
      ],
      "text/plain": [
       "            pred_num_infections  pred_num_hosp  pred_num_uci  pred_num_dead\n",
       "2021-06-11          3430.818823     159.873646     11.825539      13.016844\n",
       "2021-06-12          3353.771666     157.179157      9.694381      12.667172\n",
       "2021-06-13          3191.312601     158.815545      8.542284      13.765634\n",
       "2021-06-14          3046.618273     162.838239      8.306022      14.791417\n",
       "2021-06-15          2952.195890     167.128339      8.000496      16.457542\n",
       "2021-06-16          2946.160710     179.841826      8.353581      18.820792\n",
       "2021-06-17          3008.848439     190.712059      9.258439      21.751402"
      ]
     },
     "execution_count": 191,
     "metadata": {},
     "output_type": "execute_result"
    }
   ],
   "source": [
    "predictions"
   ]
  },
  {
   "cell_type": "code",
   "execution_count": 192,
   "metadata": {},
   "outputs": [],
   "source": [
    "predictions.to_csv('predictions.csv', index=True)"
   ]
  },
  {
   "cell_type": "code",
   "execution_count": null,
   "metadata": {},
   "outputs": [],
   "source": []
  }
 ],
 "metadata": {
  "kernelspec": {
   "display_name": "Python 3",
   "language": "python",
   "name": "python3"
  },
  "language_info": {
   "codemirror_mode": {
    "name": "ipython",
    "version": 3
   },
   "file_extension": ".py",
   "mimetype": "text/x-python",
   "name": "python",
   "nbconvert_exporter": "python",
   "pygments_lexer": "ipython3",
   "version": "3.8.5"
  }
 },
 "nbformat": 4,
 "nbformat_minor": 4
}
