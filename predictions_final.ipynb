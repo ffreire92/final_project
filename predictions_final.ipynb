{
 "cells": [
  {
   "cell_type": "markdown",
   "metadata": {},
   "source": [
    "# Imports"
   ]
  },
  {
   "cell_type": "code",
   "execution_count": 1,
   "metadata": {},
   "outputs": [],
   "source": [
    "import pandas as pd\n",
    "import numpy as np"
   ]
  },
  {
   "cell_type": "code",
   "execution_count": 2,
   "metadata": {},
   "outputs": [],
   "source": [
    "import seaborn as sns\n",
    "import matplotlib.pyplot as plt\n",
    "%matplotlib inline\n",
    "import pylab as plt"
   ]
  },
  {
   "cell_type": "code",
   "execution_count": 3,
   "metadata": {},
   "outputs": [],
   "source": [
    "from statsmodels.tsa.arima_model import ARMA"
   ]
  },
  {
   "cell_type": "code",
   "execution_count": 4,
   "metadata": {},
   "outputs": [],
   "source": [
    "from sklearn.metrics import mean_squared_error as mse"
   ]
  },
  {
   "cell_type": "code",
   "execution_count": 5,
   "metadata": {},
   "outputs": [],
   "source": [
    "import warnings\n",
    "warnings.simplefilter('ignore')"
   ]
  },
  {
   "cell_type": "code",
   "execution_count": 6,
   "metadata": {},
   "outputs": [],
   "source": [
    "plt.rcParams['figure.figsize']=(20, 20)"
   ]
  },
  {
   "cell_type": "markdown",
   "metadata": {},
   "source": [
    "# Functions"
   ]
  },
  {
   "cell_type": "markdown",
   "metadata": {},
   "source": [
    "## Data cleaning"
   ]
  },
  {
   "cell_type": "code",
   "execution_count": 7,
   "metadata": {},
   "outputs": [],
   "source": [
    "def clean_data():\n",
    "    \n",
    "    global db1\n",
    "    db1 = db1[(db1.num_infections > 0)].reset_index()\n",
    "    db1 = db1.drop(columns = ['index'], axis = 1)\n",
    "    \n",
    "    db1['date'] = pd.to_datetime(db1.date)\n",
    "    \n",
    "   \n",
    "    db1['autonomous_region'] = db1.autonomous_region.apply(lambda x: 'Comunidad Valenciana' if x == 'Valenciana, Comunidad' else x)\n",
    "    db1['autonomous_region'] = db1.autonomous_region.apply(lambda x: 'Comunidad de Madrid' if x == 'Madrid, Comunidad de' else x)\n",
    "    db1['autonomous_region'] = db1.autonomous_region.apply(lambda x: 'Región de de Murcia' if x == 'Murcia, Región de' else x)\n",
    "    db1['autonomous_region'] = db1.autonomous_region.apply(lambda x: 'Comunidad Foral de Navarra' if x == 'Navarra, Comunidad Foral de' else x)\n",
    "    db1['autonomous_region'] = db1.autonomous_region.apply(lambda x: 'Principado de Asturias' if x == 'Asturias, Principado de' else x)\n",
    "    \n",
    "    \n",
    "    db1['province'] = db1.province.apply(lambda x: 'Alicante' if x == 'Alicante/Alacant' else x)\n",
    "    db1['province'] = db1.province.apply(lambda x: 'Castellón' if x == 'Castellón/Castelló' else x)\n",
    "    db1['province'] = db1.province.apply(lambda x: 'Araba' if x == 'Araba/Álava' else x)\n",
    "    db1['province'] = db1.province.apply(lambda x: 'Valencia' if x == 'Valencia/València' else x)\n",
    "    \n",
    "    db1['sex'] = db1.sex.apply(lambda x: 'UKNOWN' if x == 'NC' else x)\n",
    "    \n",
    "    db1['age_interval'] = db1.age_interval.apply(lambda x: 'UKNOWN' if x == 'NC' else x)"
   ]
  },
  {
   "cell_type": "markdown",
   "metadata": {},
   "source": [
    "## Cumulative"
   ]
  },
  {
   "cell_type": "code",
   "execution_count": 8,
   "metadata": {},
   "outputs": [],
   "source": [
    "def cumulative(dataframe):\n",
    "    \n",
    "    cumu_num_infections = dataframe.num_infections.cumsum()\n",
    "    cumu_num_hosp = dataframe.num_hosp.cumsum()\n",
    "    cumu_num_uci = dataframe.num_uci.cumsum()\n",
    "    cumu_num_dead = dataframe.num_dead.cumsum()\n",
    "\n",
    "    cumulative = pd.DataFrame({'cumu_num_infections': cumu_num_infections, 'cumu_num_hosp': cumu_num_hosp, \n",
    "                               'cumu_num_uci': cumu_num_uci, 'cumu_num_dead': cumu_num_dead})\n",
    "    dataframe = pd.concat([dataframe, cumulative], axis = 1)\n",
    "    return dataframe"
   ]
  },
  {
   "cell_type": "markdown",
   "metadata": {},
   "source": [
    "## Relative frequencies"
   ]
  },
  {
   "cell_type": "code",
   "execution_count": 9,
   "metadata": {},
   "outputs": [],
   "source": [
    "def freq_rel(dataframe):\n",
    "    \n",
    "    dataframe['Number of infection (%)'] = [round(i/ dataframe['num_infections'].sum(),3)*100 for i in dataframe['num_infections']]\n",
    "    dataframe['Number of hospitalisation (%)'] = [round(i/ dataframe['num_hosp'].sum(),3)*100 for i in dataframe['num_hosp']]\n",
    "    dataframe['Number of Intensive Care Unit (%)'] = [round(i/ dataframe['num_uci'].sum(),3)*100 for i in dataframe['num_uci']]\n",
    "    dataframe['Number of deaths (%)'] = [round(i/ dataframe['num_dead'].sum(),3)*100 for i in dataframe['num_dead']]"
   ]
  },
  {
   "cell_type": "code",
   "execution_count": 10,
   "metadata": {},
   "outputs": [],
   "source": [
    "def organise(column):\n",
    "    \n",
    "    name = db1.groupby(column).sum()\n",
    "    freq_rel(name)\n",
    "    \n",
    "    return name"
   ]
  },
  {
   "cell_type": "markdown",
   "metadata": {},
   "source": [
    "## Moving averages: 7 days moving average"
   ]
  },
  {
   "cell_type": "code",
   "execution_count": 11,
   "metadata": {},
   "outputs": [],
   "source": [
    "def mov_7_ave(dataframe):\n",
    "    dataframe['ave_7_num_infections'] = dataframe.iloc[:,1].rolling(window=7).mean()\n",
    "    dataframe['ave_7_num_hosp'] = dataframe.iloc[:,2].rolling(window=7).mean()\n",
    "    dataframe['ave_7_num_uci'] = dataframe.iloc[:,3].rolling(window=7).mean()\n",
    "    dataframe['ave_7_num_dead'] = dataframe.iloc[:,4].rolling(window=7).mean()\n",
    "    \n",
    "    return dataframe"
   ]
  },
  {
   "cell_type": "markdown",
   "metadata": {},
   "source": [
    "## Evolution"
   ]
  },
  {
   "cell_type": "code",
   "execution_count": 12,
   "metadata": {},
   "outputs": [],
   "source": [
    "def evolution(dataframe):\n",
    "    global db1\n",
    "    \n",
    "    bydate = db1.groupby('date').sum().reset_index()\n",
    "    bydate = cumulative(bydate)\n",
    "    bydate = mov_7_ave(bydate)\n",
    "    \n",
    "    return bydate"
   ]
  },
  {
   "cell_type": "markdown",
   "metadata": {},
   "source": [
    "# Data"
   ]
  },
  {
   "cell_type": "code",
   "execution_count": 13,
   "metadata": {},
   "outputs": [],
   "source": [
    "db1 =pd.read_csv('covid-19-sample.csv')"
   ]
  },
  {
   "cell_type": "code",
   "execution_count": 14,
   "metadata": {},
   "outputs": [],
   "source": [
    "clean_data()"
   ]
  },
  {
   "cell_type": "code",
   "execution_count": 15,
   "metadata": {},
   "outputs": [],
   "source": [
    "bydate = evolution(db1)"
   ]
  },
  {
   "cell_type": "code",
   "execution_count": 22,
   "metadata": {},
   "outputs": [],
   "source": [
    "def predict(name, days):\n",
    "    \n",
    "    global bydate\n",
    "    \n",
    "    if name == 'Number of infections':\n",
    "        \n",
    "        infections = bydate[['date', 'ave_7_num_infections']].set_index('date')\n",
    "        infections = infections[6:]\n",
    "        train, test = infections[:-days], infections[-days:]\n",
    "        \n",
    "        if days == 1:\n",
    "            \n",
    "            model=ARMA(train, order = (4, 2)).fit(disp=False)\n",
    "            print('rsme:', mse(model.predict(len(train), len(infections)-1), test)**0.5, 'daily infections')\n",
    "            return pd.DataFrame(model.predict(), columns = ['pred_num_infections_1'])\n",
    "        \n",
    "        if days == 3:\n",
    "            \n",
    "            model=ARMA(train, order = (4, 12)).fit(disp=False)\n",
    "            print('rsme:', mse(model.predict(len(train), len(infections)-1), test)**0.5, 'daily infections')\n",
    "            return pd.DataFrame(model.predict(), columns = ['pred_num_infections_3'])\n",
    "            \n",
    "        if days == 5:\n",
    "            \n",
    "            model=ARMA(train, order = (19, 11)).fit(disp=False)\n",
    "            print('rsme:', mse(model.predict(len(train), len(infections)-1), test)**0.5, 'daily infections')\n",
    "            return pd.DataFrame(model.predict(), columns = ['pred_num_infections_5'])\n",
    "        \n",
    "        if days == 7:\n",
    "            \n",
    "            model=ARMA(train, order = (19, 7)).fit(disp=False)\n",
    "            print('rsme:', mse(model.predict(len(train), len(infections)-1), test)**0.5, 'daily infections')\n",
    "            return pd.DataFrame(model.predict(), columns = ['pred_num_infections_7'])\n",
    "        \n",
    "\n",
    "    if name == 'Number of hospitalisation':\n",
    "        \n",
    "        hosp = bydate[['date', 'ave_7_num_hosp']].set_index('date')\n",
    "        hosp = hosp[6:]\n",
    "        train, test = hosp[:-days], hosp[-days:]\n",
    "        \n",
    "        if days == 1:\n",
    "            \n",
    "            model=ARMA(train, order = (2, 2)).fit(disp=False)\n",
    "            print('rsme:', mse(model.predict(len(hosp), len(hosp)-1), test)**0.5, 'daily hospitalisations')\n",
    "            return pd.DataFrame(model.predict(), columns = ['pred_num_hosp_1'])\n",
    "        \n",
    "        if days == 3:\n",
    "            \n",
    "            model=ARMA(train, order = (6, 5)).fit(disp=False)\n",
    "            print('rsme:', mse(model.predict(len(hosp), len(hosp)-1), test)**0.5, 'daily hospitalisations')\n",
    "            return pd.DataFrame(model.predict(), columns = ['pred_num_hosp_3'])\n",
    "            \n",
    "        if days == 5:\n",
    "            \n",
    "            model=ARMA(train, order = (2, 8)).fit(disp=False)\n",
    "            print('rsme:', mse(model.predict(len(hosp), len(hosp)-1), test)**0.5, 'daily hospitalisations')\n",
    "            return pd.DataFrame(model.predict(), columns = ['pred_num_hosp_5'])\n",
    "\n",
    "        if days == 7:\n",
    "            \n",
    "            model=ARMA(train, order = (19, 11)).fit(disp=False)\n",
    "            print('rsme:', mse(model.predict(len(hosp), len(hosp)-1), test)**0.5, 'daily hospitalisations')\n",
    "            return pd.DataFrame(model.predict(), columns = ['pred_num_hosp_7'])\n",
    "\n",
    "        \n",
    "    if name == 'Number of Intensive Care Unit':\n",
    "        \n",
    "        uci = bydate[['date', 'ave_7_num_uci']].set_index('date')\n",
    "        uci = uci[6:]\n",
    "        train, test = uci[:-days], uci[-days:]\n",
    "        \n",
    "        if days == 1:\n",
    "            \n",
    "            model=ARMA(train, order = (2, 4)).fit(disp=False)\n",
    "            print('rsme:', mse(model.predict(len(uci), len(hosp)-1), test)**0.5, 'daily intensive care unit')\n",
    "            return pd.DataFrame(model.predict(), columns = ['pred_num_hosp_1'])\n",
    "        \n",
    "        if days == 3:\n",
    "            \n",
    "            model=ARMA(train, order = (5, 5)).fit(disp=False)\n",
    "            print('rsme:', mse(model.predict(len(uci), len(hosp)-1), test)**0.5, 'daily intensive care unit')\n",
    "            return pd.DataFrame(model.predict(), columns = ['pred_num_hosp_3'])\n",
    "            \n",
    "        if days == 5:\n",
    "            \n",
    "            model=ARMA(train, order = (4, 5)).fit(disp=False)\n",
    "            print('rsme:', mse(model.predict(len(uci), len(hosp)-1), test)**0.5, 'daily intensive care unit')\n",
    "            return pd.DataFrame(model.predict(), columns = ['pred_num_hosp_5'])\n",
    "\n",
    "        if days == 7:\n",
    "            \n",
    "            model=ARMA(train, order = (2, 6)).fit(disp=False)\n",
    "            print('rsme:', mse(model.predict(len(uci), len(hosp)-1), test)**0.5, 'daily intensive care unit')\n",
    "            return pd.DataFrame(model.predict(), columns = ['pred_num_hosp_7'])\n",
    "\n",
    "    if name == 'Number of deaths':\n",
    "        \n",
    "        deaths = bydate[['date', 'ave_7_num_dead']].set_index('date')\n",
    "        deaths = deaths[6:]\n",
    "        train, test = deaths[:-days], deaths[-days:]\n",
    "        \n",
    "        if days == 1:\n",
    "            \n",
    "            model=ARMA(train, order = (2, 3)).fit(disp=False)\n",
    "            print('rsme:', mse(model.predict(len(deaths), len(hosp)-1), test)**0.5, 'daily intensive care unit')\n",
    "            return pd.DataFrame(model.predict(), columns = ['pred_num_hosp_1'])\n",
    "        \n",
    "        if days == 3:\n",
    "            \n",
    "            model=ARMA(train, order = (4, 5)).fit(disp=False)\n",
    "            print('rsme:', mse(model.predict(len(deaths), len(hosp)-1), test)**0.5, 'daily intensive care unit')\n",
    "            return pd.DataFrame(model.predict(), columns = ['pred_num_hosp_3'])\n",
    "            \n",
    "        if days == 5:\n",
    "            \n",
    "            model=ARMA(train, order = (9, 6)).fit(disp=False)\n",
    "            print('rsme:', mse(model.predict(len(deaths), len(hosp)-1), test)**0.5, 'daily intensive care unit')\n",
    "            return pd.DataFrame(model.predict(), columns = ['pred_num_hosp_5'])\n",
    "\n",
    "        if days == 7:\n",
    "            \n",
    "            model=ARMA(train, order = (2, 7)).fit(disp=False)\n",
    "            print('rsme:', mse(model.predict(len(deaths), len(hosp)-1), test)**0.5, 'daily intensive care unit')\n",
    "            return pd.DataFrame(model.predict(), columns = ['pred_num_hosp_7'])\n"
   ]
  },
  {
   "cell_type": "code",
   "execution_count": 17,
   "metadata": {},
   "outputs": [
    {
     "name": "stdout",
     "output_type": "stream",
     "text": [
      "rsme: 0.8948312256152349 daily infections\n"
     ]
    }
   ],
   "source": [
    "pred_num_infections_1 = predict('Number of infections', 1)"
   ]
  },
  {
   "cell_type": "code",
   "execution_count": 18,
   "metadata": {},
   "outputs": [
    {
     "name": "stdout",
     "output_type": "stream",
     "text": [
      "rsme: 102.2607415602929 daily infections\n"
     ]
    }
   ],
   "source": [
    "pred_num_infections_3 = predict('Number of infections', 3)"
   ]
  },
  {
   "cell_type": "code",
   "execution_count": 20,
   "metadata": {},
   "outputs": [
    {
     "name": "stdout",
     "output_type": "stream",
     "text": [
      "rsme: 357.45878260447734 daily infections\n"
     ]
    }
   ],
   "source": [
    "pred_num_infections_5 = predict('Number of infections', 5)"
   ]
  },
  {
   "cell_type": "code",
   "execution_count": null,
   "metadata": {},
   "outputs": [],
   "source": []
  }
 ],
 "metadata": {
  "kernelspec": {
   "display_name": "Python 3",
   "language": "python",
   "name": "python3"
  },
  "language_info": {
   "codemirror_mode": {
    "name": "ipython",
    "version": 3
   },
   "file_extension": ".py",
   "mimetype": "text/x-python",
   "name": "python",
   "nbconvert_exporter": "python",
   "pygments_lexer": "ipython3",
   "version": "3.8.5"
  }
 },
 "nbformat": 4,
 "nbformat_minor": 4
}
